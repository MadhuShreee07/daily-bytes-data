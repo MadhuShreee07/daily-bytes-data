{
  "nbformat": 4,
  "nbformat_minor": 0,
  "metadata": {
    "colab": {
      "provenance": []
    },
    "kernelspec": {
      "name": "python3",
      "display_name": "Python 3"
    },
    "language_info": {
      "name": "python"
    }
  },
  "cells": [
    {
      "cell_type": "markdown",
      "source": [
        "#NUMPY\n",
        "\n",
        "Numpy-Numerical Python\n",
        "\n",
        "Numpy is a Python library used for\n",
        "working with arrays.\n",
        "\n",
        "Python lists are a substitute for arrays,but they fail to deliver the Performance required while computing large sets of numerical data.\n",
        "\n",
        "To address this issue we use the Numpy library of Python.Numpy offers an array object called ndarray\n",
        "\n",
        "#NUMPY VS PYTHON LIST\n",
        "\n",
        "Feature                | Python List                    | NumPy Array\n",
        "-----------------------|--------------------------------|-------------------------------\n",
        "Speed                  | Slow                           | Fast (optimized in C)\n",
        "Data Types             | Mixed allowed                  | Same data type only\n",
        "Memory Efficiency      | Less efficient                 | More efficient\n",
        "Math Operations        | Manual loop                    | Direct (vectorized)\n",
        "Built-in Functions     | Limited                        | Many powerful tools\n",
        "\n",
        "Why is Numpy Faster than Lists?\n",
        "\n",
        "\n",
        "Numpy arrays are stored at one continuous Place in memory unlike lists.so Processes can acceess and manipulate them very efficiently.\n",
        "\n",
        "\n",
        "\n",
        "\n",
        "\n",
        "\n",
        "\n"
      ],
      "metadata": {
        "id": "E67R5pb-UOp5"
      }
    },
    {
      "cell_type": "markdown",
      "source": [
        "DATA TYPES IN NUMPY:\n",
        "\n",
        "*Strings\n",
        "\n",
        "*integer(32bit and 64bit)\n",
        "\n",
        "*float(32bit and 64bit)\n",
        "\n",
        "*boolean\n",
        "\n",
        "*complex"
      ],
      "metadata": {
        "id": "iLUP6mw7Xf3u"
      }
    },
    {
      "cell_type": "markdown",
      "source": [
        "What is a Numpy Array?\n",
        "\n",
        "*Numpy array is a multidimensional data structure that is the core of scientific computing in python.\n",
        "\n",
        "*All values in an array are homogeneous(of the same datatype)\n",
        "\n",
        "*They provide efficient memory management,support various data types and are flexible with Indexing and slicing.\n",
        "\n"
      ],
      "metadata": {
        "id": "2HxfuaVUdhZ7"
      }
    },
    {
      "cell_type": "code",
      "source": [
        "#CREATING AN ARRAY\n",
        "\n",
        "import numpy as np    # alias -> np\n",
        "\n",
        "arr=np.array([1,2,3])\n",
        "arr"
      ],
      "metadata": {
        "colab": {
          "base_uri": "https://localhost:8080/"
        },
        "id": "j4AZ25X2eQuC",
        "outputId": "06e55716-f97f-4900-d3d3-26e8afbbb761"
      },
      "execution_count": 17,
      "outputs": [
        {
          "output_type": "execute_result",
          "data": {
            "text/plain": [
              "array([1, 2, 3])"
            ]
          },
          "metadata": {},
          "execution_count": 17
        }
      ]
    },
    {
      "cell_type": "code",
      "source": [
        "#type() -> This built-in Python functions tells us the type of the object Passed to it.\n",
        "\n",
        "type(arr)\n"
      ],
      "metadata": {
        "colab": {
          "base_uri": "https://localhost:8080/"
        },
        "id": "bwyECjFUVBvy",
        "outputId": "e86b7dea-5896-43e5-9878-4e53cfc7e757"
      },
      "execution_count": 18,
      "outputs": [
        {
          "output_type": "execute_result",
          "data": {
            "text/plain": [
              "numpy.ndarray"
            ]
          },
          "metadata": {},
          "execution_count": 18
        }
      ]
    },
    {
      "cell_type": "code",
      "source": [
        "#o create an ndarray, we can pass a list, tuple or any array-like object into the array() method, and it will be converted into an ndarray:\n",
        "\n",
        "import numpy as np\n",
        "\n",
        "arr = np.array((1, 2, 3, 4, 5))\n",
        "\n",
        "print(arr)\n"
      ],
      "metadata": {
        "colab": {
          "base_uri": "https://localhost:8080/"
        },
        "id": "TTvAPlCX43x2",
        "outputId": "08ef7974-12aa-48cd-ba7d-e9589168e9c0"
      },
      "execution_count": 19,
      "outputs": [
        {
          "output_type": "stream",
          "name": "stdout",
          "text": [
            "[1 2 3 4 5]\n"
          ]
        }
      ]
    },
    {
      "cell_type": "code",
      "source": [
        "#get the data type of an array\n",
        "\n",
        "import numpy as np\n",
        "\n",
        "arr = np.array([1, 2, 3, 4])\n",
        "\n",
        "print(arr.dtype)"
      ],
      "metadata": {
        "colab": {
          "base_uri": "https://localhost:8080/"
        },
        "id": "yRef34-s_nMB",
        "outputId": "35aa7231-0810-49aa-bd4f-f04c028858a1"
      },
      "execution_count": 20,
      "outputs": [
        {
          "output_type": "stream",
          "name": "stdout",
          "text": [
            "int64\n"
          ]
        }
      ]
    },
    {
      "cell_type": "code",
      "source": [
        "#DIMENSTION IN ARRAYS\n",
        "\n",
        "# ndim - To check the number of dimension of an array\n",
        "\n",
        "#0D (zero-dimensional)\tScalar - A single element\n",
        "#1D (one-dimensional)\tVector- A list of integers.\n",
        "#2D (two-dimensional)\tMatrix- A spreadsheet of data\n",
        "#3D (three-dimensional)\tTensor- Storing a color image\n",
        "\n",
        "import numpy as np\n",
        "\n",
        "arr=np.array(42)\n",
        "brr=np.array([1,2,3,4,5])\n",
        "crr=np.array([[1,2,3],[4,5,6]])\n",
        "drr=np.array([[[1,2,3],[4,5,6],[7,8,9]]])\n",
        "print(arr.ndim)      # or print(np.ndim(a))\n",
        "print(brr.ndim)\n",
        "print(crr.ndim)\n",
        "print(drr.ndim)\n",
        "\n"
      ],
      "metadata": {
        "colab": {
          "base_uri": "https://localhost:8080/"
        },
        "id": "X8oYcd4ifVpS",
        "outputId": "f26314cf-047a-43bb-b878-08161671f555"
      },
      "execution_count": 21,
      "outputs": [
        {
          "output_type": "stream",
          "name": "stdout",
          "text": [
            "0\n",
            "1\n",
            "2\n",
            "3\n"
          ]
        }
      ]
    },
    {
      "cell_type": "code",
      "source": [
        "#forces minimum number of dimensions when creating an array\n",
        "#f the data has fewer dimensions, NumPy will add extra dimensions (axes) in front.\n",
        "\n",
        "import numpy as np\n",
        "\n",
        "arr = np.array([1, 2, 3, 4], ndmin=5)\n",
        "\n",
        "print(arr)\n",
        "print('number of dimensions :', arr.ndim)"
      ],
      "metadata": {
        "colab": {
          "base_uri": "https://localhost:8080/"
        },
        "id": "woakiJyW5UmV",
        "outputId": "e1a67dbe-fcf0-4e94-ff93-1e9f42b68e67"
      },
      "execution_count": 22,
      "outputs": [
        {
          "output_type": "stream",
          "name": "stdout",
          "text": [
            "[[[[[1 2 3 4]]]]]\n",
            "number of dimensions : 5\n"
          ]
        }
      ]
    },
    {
      "cell_type": "code",
      "source": [
        "#CREATING ARRAYS PYTHON VS NUMPY\n",
        "\n",
        "l = []                     # create empty list\n",
        "for i in range(10):\n",
        "    l.append(i)\n",
        "print(l)\n",
        "\n",
        "np.arange(0,10)\n"
      ],
      "metadata": {
        "colab": {
          "base_uri": "https://localhost:8080/"
        },
        "id": "bxu17CS7jq3R",
        "outputId": "fd1157d3-d922-4e56-a09a-607c86b6de6e"
      },
      "execution_count": 23,
      "outputs": [
        {
          "output_type": "stream",
          "name": "stdout",
          "text": [
            "[0, 1, 2, 3, 4, 5, 6, 7, 8, 9]\n"
          ]
        },
        {
          "output_type": "execute_result",
          "data": {
            "text/plain": [
              "array([0, 1, 2, 3, 4, 5, 6, 7, 8, 9])"
            ]
          },
          "metadata": {},
          "execution_count": 23
        }
      ]
    },
    {
      "cell_type": "code",
      "source": [
        "#linspace - (start,stop,number of values btw them)\n",
        "\n",
        "import numpy as np\n",
        "\n",
        "arr=np.linspace(0,10,5)      #DEFAULT VALUES IN NUMPY IS FLOAT.\n",
        "arr\n"
      ],
      "metadata": {
        "colab": {
          "base_uri": "https://localhost:8080/"
        },
        "id": "BBlLLTTZkbfL",
        "outputId": "6df035a0-1597-42f4-be2e-dcb7f0c39d05"
      },
      "execution_count": 24,
      "outputs": [
        {
          "output_type": "execute_result",
          "data": {
            "text/plain": [
              "array([ 0. ,  2.5,  5. ,  7.5, 10. ])"
            ]
          },
          "metadata": {},
          "execution_count": 24
        }
      ]
    },
    {
      "cell_type": "code",
      "source": [
        "#logspace - Logarithmic scale array(10 to the power) - (start,stop,noofvalues)\n",
        "\n",
        "arr=np.logspace(1,3,3)\n",
        "arr"
      ],
      "metadata": {
        "colab": {
          "base_uri": "https://localhost:8080/"
        },
        "id": "StNpUKrumEL7",
        "outputId": "1ed940f0-c77b-47b3-f507-907e55c7147a"
      },
      "execution_count": 25,
      "outputs": [
        {
          "output_type": "execute_result",
          "data": {
            "text/plain": [
              "array([  10.,  100., 1000.])"
            ]
          },
          "metadata": {},
          "execution_count": 25
        }
      ]
    },
    {
      "cell_type": "code",
      "source": [
        "# zeros - Array full of zeros.\n",
        "# ones - Array full of ones.\n",
        "\n",
        "import numpy as np\n",
        "arr1=np.zeros(5)             #() - no of values\n",
        "print(arr1)\n",
        "\n",
        "arr2=np.zeros([2,3])        # 2 rows and 3 columns\n",
        "print(arr2)\n",
        "\n",
        "arr3=np.ones([4,2],dtype=int)     #changing the datatype to int.\n",
        "print(arr3)\n"
      ],
      "metadata": {
        "colab": {
          "base_uri": "https://localhost:8080/"
        },
        "id": "fvET0B8lmfcw",
        "outputId": "f1513cf9-23b0-40fb-f546-ac81332044b7"
      },
      "execution_count": 26,
      "outputs": [
        {
          "output_type": "stream",
          "name": "stdout",
          "text": [
            "[0. 0. 0. 0. 0.]\n",
            "[[0. 0. 0.]\n",
            " [0. 0. 0.]]\n",
            "[[1 1]\n",
            " [1 1]\n",
            " [1 1]\n",
            " [1 1]]\n"
          ]
        }
      ]
    },
    {
      "cell_type": "code",
      "source": [
        "#full -> create an array full of any values. - (row,column),defaultvalue\n",
        "\n",
        "arr=np.full(10,2)\n",
        "print(arr)\n",
        "\n",
        "arr2=np.full((2,3),5)\n",
        "print(arr2)\n"
      ],
      "metadata": {
        "colab": {
          "base_uri": "https://localhost:8080/"
        },
        "id": "-CEHzJqbnRlq",
        "outputId": "09fbca10-b5c7-4315-c6b5-418ff25a3d58"
      },
      "execution_count": 27,
      "outputs": [
        {
          "output_type": "stream",
          "name": "stdout",
          "text": [
            "[2 2 2 2 2 2 2 2 2 2]\n",
            "[[5 5 5]\n",
            " [5 5 5]]\n"
          ]
        }
      ]
    },
    {
      "cell_type": "code",
      "source": [
        "#empty - uninitialized array -> create an array without setting any values.\n",
        "\n",
        "arr=np.empty([2,3])\n",
        "print(arr)"
      ],
      "metadata": {
        "colab": {
          "base_uri": "https://localhost:8080/"
        },
        "id": "SNPg5KaYnwNl",
        "outputId": "5829ec63-0a86-455d-ee7e-645c4fe054cc"
      },
      "execution_count": 28,
      "outputs": [
        {
          "output_type": "stream",
          "name": "stdout",
          "text": [
            "[[0. 0. 0.]\n",
            " [0. 0. 0.]]\n"
          ]
        }
      ]
    },
    {
      "cell_type": "code",
      "source": [
        "#random.rand -> random floats () -> no of elemets / size of a an array\n",
        "\n",
        "arr=np.random.rand(5)\n",
        "print(arr)\n",
        "\n",
        "arr2=np.random.rand(2,5)\n",
        "print(arr2)"
      ],
      "metadata": {
        "colab": {
          "base_uri": "https://localhost:8080/"
        },
        "id": "IML1qfYdpT8k",
        "outputId": "305945eb-b290-456a-f39e-d9f53e1080b8"
      },
      "execution_count": 29,
      "outputs": [
        {
          "output_type": "stream",
          "name": "stdout",
          "text": [
            "[0.68243281 0.24745002 0.4153581  0.84811443 0.82508143]\n",
            "[[0.03863125 0.37562494 0.95273377 0.90714032 0.87144283]\n",
            " [0.77698362 0.72083688 0.40537552 0.81356381 0.08932248]]\n"
          ]
        }
      ]
    },
    {
      "cell_type": "code",
      "source": [
        "#random.randn -> random floats from standard normal distribution (mean(avg=0),std dev=1)\n",
        "#prints both positive and negative value from 0 to 1\n",
        "\n",
        "arr=np.random.randn(2,3)\n",
        "print(arr)\n",
        "\n"
      ],
      "metadata": {
        "colab": {
          "base_uri": "https://localhost:8080/"
        },
        "id": "bvyr_eQtqJVD",
        "outputId": "c24be792-4e55-4da1-dff9-a32644a49168"
      },
      "execution_count": 30,
      "outputs": [
        {
          "output_type": "stream",
          "name": "stdout",
          "text": [
            "[[ 1.19783659 -1.8201803   0.86776154]\n",
            " [-0.55243635 -0.14719707 -0.29615337]]\n"
          ]
        }
      ]
    },
    {
      "cell_type": "code",
      "source": [
        "#np.random.randint -> just random integers - (from,to)\n",
        "\n",
        "arr=np.random.randint(10,100)\n",
        "arr\n",
        "\n",
        "arr=np.random.randint(10,100,size=(2,3))\n",
        "arr"
      ],
      "metadata": {
        "colab": {
          "base_uri": "https://localhost:8080/"
        },
        "id": "_ZwWkuHaqp-c",
        "outputId": "7ec4d607-36de-4f8b-e0ef-3dffb3033035"
      },
      "execution_count": 31,
      "outputs": [
        {
          "output_type": "execute_result",
          "data": {
            "text/plain": [
              "array([[73, 79, 31],\n",
              "       [76, 75, 96]])"
            ]
          },
          "metadata": {},
          "execution_count": 31
        }
      ]
    },
    {
      "cell_type": "code",
      "source": [
        "#TYPECASTING -converting one data type into another\n",
        "\n",
        "#converting list into numpy array.\n",
        "import numpy as np\n",
        "lst=[\"string\",1,2,5.6]\n",
        "arr=np.array(lst)\n",
        "print(arr)\n",
        "\n",
        "#converting int to float (vice versa also works)\n",
        "\n",
        "arr=np.array([1,2,3,4],dtype=float)\n",
        "print(arr)\n",
        "\n",
        "#astype()\n",
        "arr=np.array([1,2,3,4])\n",
        "print(arr.dtype)\n",
        "\n",
        "new_arr=arr.astype(float)\n",
        "print(new_arr)\n",
        "\n",
        "#Typecasting error\n",
        "\n",
        "#arr = np.array([\"hello\", \"world\"])\n",
        "#arr.astype(float)\n"
      ],
      "metadata": {
        "colab": {
          "base_uri": "https://localhost:8080/"
        },
        "id": "yWGEVYjstKH5",
        "outputId": "7dccbdce-2e87-4d84-c6be-f1fb639bb45e"
      },
      "execution_count": 32,
      "outputs": [
        {
          "output_type": "stream",
          "name": "stdout",
          "text": [
            "['string' '1' '2' '5.6']\n",
            "[1. 2. 3. 4.]\n",
            "int64\n",
            "[1. 2. 3. 4.]\n"
          ]
        }
      ]
    },
    {
      "cell_type": "code",
      "source": [
        "#Shape - The shape of an array is the number of elements in each dimension.\n",
        "#Numpy arrays have an attrib called shape that returns a tuple with each index having having the number of corresponding elements.\n",
        "\n",
        "import numpy as np\n",
        "\n",
        "arr=np.array([[1,2,3,4],[5,6,7,8]])\n",
        "print(arr.shape)\n",
        "\n",
        "arr=np.array([1,2,3,4],ndmin=5)\n",
        "print(arr)\n",
        "print(arr.shape)\n"
      ],
      "metadata": {
        "colab": {
          "base_uri": "https://localhost:8080/"
        },
        "id": "UQyu2BaAs_-W",
        "outputId": "49efcec9-d837-4fef-ffc1-cb28edc3f88c"
      },
      "execution_count": 33,
      "outputs": [
        {
          "output_type": "stream",
          "name": "stdout",
          "text": [
            "(2, 4)\n",
            "[[[[[1 2 3 4]]]]]\n",
            "(1, 1, 1, 1, 4)\n"
          ]
        }
      ]
    },
    {
      "cell_type": "code",
      "source": [
        "#Numpy Array Reshaping - changing the shape of an array\n",
        "#shape of the array is the number of elements in each dimension.\n",
        "#By reshaping we can add or remove dimensions or change the number of elements in each dimension.\n",
        "\n",
        "#Reshape from 1d to 2d\n",
        "\n",
        "import numpy as np\n",
        "arr=np.array([1,2,3,4,5,6,7,8,9,10,11,12])\n",
        "new_arr=arr.reshape(4,3)\n",
        "print(new_arr)\n",
        "\n",
        "newarr=arr.reshape(2,3,2)\n",
        "print(newarr)\n",
        "\n",
        "#ry converting 1D array with 8 elements to a 2D array\n",
        "# with 3 elements in each dimension (will raise an error):"
      ],
      "metadata": {
        "colab": {
          "base_uri": "https://localhost:8080/"
        },
        "id": "CiwhUjS1wZfi",
        "outputId": "e5c25e13-f861-4dc1-cbe3-bfdf117929f0"
      },
      "execution_count": 34,
      "outputs": [
        {
          "output_type": "stream",
          "name": "stdout",
          "text": [
            "[[ 1  2  3]\n",
            " [ 4  5  6]\n",
            " [ 7  8  9]\n",
            " [10 11 12]]\n",
            "[[[ 1  2]\n",
            "  [ 3  4]\n",
            "  [ 5  6]]\n",
            "\n",
            " [[ 7  8]\n",
            "  [ 9 10]\n",
            "  [11 12]]]\n"
          ]
        }
      ]
    },
    {
      "cell_type": "code",
      "source": [
        "#Convert 1D array with 8 elements to 3D array with 2x2 elements:\n",
        "\n",
        "import numpy as np\n",
        "\n",
        "arr = np.array([1, 2, 3, 4, 5, 6, 7, 8])\n",
        "\n",
        "newarr = arr.reshape(2, 2, -1)\n",
        "\n",
        "print(newarr)\n",
        "\n",
        "#Note: We can not pass -1 to more than one dimension"
      ],
      "metadata": {
        "colab": {
          "base_uri": "https://localhost:8080/"
        },
        "id": "jTReZ6lmCy5w",
        "outputId": "da72003c-7c83-484c-fc8d-ff6835138018"
      },
      "execution_count": 35,
      "outputs": [
        {
          "output_type": "stream",
          "name": "stdout",
          "text": [
            "[[[1 2]\n",
            "  [3 4]]\n",
            "\n",
            " [[5 6]\n",
            "  [7 8]]]\n"
          ]
        }
      ]
    },
    {
      "cell_type": "code",
      "source": [
        "#ravel -> convert 1D array returns the view\n",
        "\n",
        "newarr=np.array([[1,2,3],[4,5,6]])\n",
        "ravel=np.ravel(newarr)\n",
        "print(ravel)\n",
        "\n",
        "ravel[0]=100\n",
        "print(ravel)\n",
        "print(newarr)"
      ],
      "metadata": {
        "colab": {
          "base_uri": "https://localhost:8080/"
        },
        "id": "TpBeC_9pypgb",
        "outputId": "bcc77b70-1a3b-46c3-b8c6-d1d6537b1430"
      },
      "execution_count": 36,
      "outputs": [
        {
          "output_type": "stream",
          "name": "stdout",
          "text": [
            "[1 2 3 4 5 6]\n",
            "[100   2   3   4   5   6]\n",
            "[[100   2   3]\n",
            " [  4   5   6]]\n"
          ]
        }
      ]
    },
    {
      "cell_type": "code",
      "source": [
        "#Flattening the arrays\n",
        "\n",
        "#Flattening array means converting a multidimensional array into a 1D array.\n",
        "#returns a copy of the array.\n",
        "#We can use reshape(-1) to do this.\n",
        "\n",
        "import numpy as np\n",
        "\n",
        "arr=np.array([[1,2,3],[4,5,6]])\n",
        "new_arr=arr.reshape(-1)\n",
        "print(new_arr)\n",
        "\n",
        "flat=arr.flatten()\n",
        "print(flat)\n",
        "flat[0]=1\n",
        "print(flat)\n",
        "print(arr)"
      ],
      "metadata": {
        "colab": {
          "base_uri": "https://localhost:8080/"
        },
        "id": "7Lj5oBzwyQP5",
        "outputId": "308b2706-ef7d-4db0-dc61-f69309fc0411"
      },
      "execution_count": 37,
      "outputs": [
        {
          "output_type": "stream",
          "name": "stdout",
          "text": [
            "[1 2 3 4 5 6]\n",
            "[1 2 3 4 5 6]\n",
            "[1 2 3 4 5 6]\n",
            "[[1 2 3]\n",
            " [4 5 6]]\n"
          ]
        }
      ]
    },
    {
      "cell_type": "code",
      "source": [
        "#Arithmetic opertors on Arrays\n",
        "\n",
        "import numpy as np\n",
        "a=np.array([1,2,3])\n",
        "b=np.array([4,5,6])\n",
        "print(a+b)   # or print(np.add(a,b))\n",
        "print(a-b)    # or print(np.subtract(a,b))\n",
        "print(b-a)\n",
        "print(a/b)\n",
        "print(b//a)\n",
        "print(a*b)     # or print(np.multiply(a,b))\n",
        "print(a%b)     # or print(np.mod(a,b))\n",
        "print(a**2)     # or print(np.power(a,b))"
      ],
      "metadata": {
        "colab": {
          "base_uri": "https://localhost:8080/"
        },
        "id": "6zlPGDJS-VXx",
        "outputId": "5e59119e-4848-47e5-e842-bb5e15eb9aba"
      },
      "execution_count": 38,
      "outputs": [
        {
          "output_type": "stream",
          "name": "stdout",
          "text": [
            "[5 7 9]\n",
            "[-3 -3 -3]\n",
            "[3 3 3]\n",
            "[0.25 0.4  0.5 ]\n",
            "[4 2 2]\n",
            "[ 4 10 18]\n",
            "[1 2 3]\n",
            "[1 4 9]\n"
          ]
        }
      ]
    },
    {
      "cell_type": "code",
      "source": [
        "#universal functions -> ufuncs\n",
        "\n",
        "import numpy as np\n",
        "arr=np.array([1,4,9,6])\n",
        "print(np.sqrt(arr))\n",
        "print(np.log(arr))\n",
        "print(np.log10(arr))\n",
        "print(np.exp(arr))\n",
        "\n",
        "arr2 = np.array([0, np.pi, np.pi/2])\n",
        "print(np.sin(arr2))\n",
        "print(np.cos(arr2))\n",
        "\n"
      ],
      "metadata": {
        "colab": {
          "base_uri": "https://localhost:8080/"
        },
        "id": "bHzK3cxU_90Y",
        "outputId": "12f51f54-4eb7-4baf-a553-a01e6cedaf85"
      },
      "execution_count": 39,
      "outputs": [
        {
          "output_type": "stream",
          "name": "stdout",
          "text": [
            "[1.         2.         3.         2.44948974]\n",
            "[0.         1.38629436 2.19722458 1.79175947]\n",
            "[0.         0.60205999 0.95424251 0.77815125]\n",
            "[2.71828183e+00 5.45981500e+01 8.10308393e+03 4.03428793e+02]\n",
            "[0.0000000e+00 1.2246468e-16 1.0000000e+00]\n",
            "[ 1.000000e+00 -1.000000e+00  6.123234e-17]\n"
          ]
        }
      ]
    },
    {
      "cell_type": "code",
      "source": [
        "#Numpy Indexing - same as accessing an element an array (using index) starting starts with 0\n",
        "\n",
        "import numpy as np\n",
        "\n",
        "arr=np.array([1,2,3,4])\n",
        "for i in range(0,4):\n",
        "   print(arr[i])\n",
        "\n",
        "print(arr[0])\n",
        "print(arr[2]+arr[3])   #Numpy follows vectorisation"
      ],
      "metadata": {
        "colab": {
          "base_uri": "https://localhost:8080/"
        },
        "id": "f3Eruex5mpIV",
        "outputId": "3389bb4e-a809-44f3-c428-e716e99036e0"
      },
      "execution_count": 40,
      "outputs": [
        {
          "output_type": "stream",
          "name": "stdout",
          "text": [
            "1\n",
            "2\n",
            "3\n",
            "4\n",
            "1\n",
            "7\n"
          ]
        }
      ]
    },
    {
      "cell_type": "code",
      "source": [
        "#Acess in 2D arrays\n",
        "\n",
        "import numpy as np\n",
        "\n",
        "arr1=np.array([[1,2,3,4,5],[6,7,8,9,10]])\n",
        "print(arr1[0,1])    #2nd element on 1st row\n",
        "print(arr1[1,4])    #5th element on 2nd row\n",
        "print(arr1[1,-1])       #Negative index starts from 1 (last element from 2nd dim)"
      ],
      "metadata": {
        "colab": {
          "base_uri": "https://localhost:8080/"
        },
        "id": "SY7wpR_qna9o",
        "outputId": "64222cf8-e5fe-4f54-d183-36e780886f76"
      },
      "execution_count": 41,
      "outputs": [
        {
          "output_type": "stream",
          "name": "stdout",
          "text": [
            "2\n",
            "10\n",
            "10\n"
          ]
        }
      ]
    },
    {
      "cell_type": "code",
      "source": [
        "#Acess in 3D arrays\n",
        "\n",
        "import numpy as np\n",
        "\n",
        "arr=np.array([[[1,2,3],[4,5,6],[7,8,9]]])\n",
        "print(arr[0,1,2])\n",
        "print(arr[0,2,1])"
      ],
      "metadata": {
        "colab": {
          "base_uri": "https://localhost:8080/"
        },
        "id": "PGNZP8RboB2R",
        "outputId": "c6de22eb-50fb-4cac-f19a-024641aa2ec4"
      },
      "execution_count": 42,
      "outputs": [
        {
          "output_type": "stream",
          "name": "stdout",
          "text": [
            "6\n",
            "8\n"
          ]
        }
      ]
    },
    {
      "cell_type": "markdown",
      "source": [
        "#Array Slicing\n",
        "\n",
        "*Slicing in python means taking elements from one given index to another given index.\n",
        "\n",
        "*we pass slice instead of index like this:[start:end]\n",
        "\n",
        "*We can also define the step ,like this:[start,end,stop].\n",
        "\n",
        "*If we dont pass start it is considered 0.\n",
        "\n",
        "*If we dont pass end its considered length of array in that dimension.\n",
        "\n",
        "*If we dont pass step its considered 1.\n",
        "\n",
        "\n",
        "\n"
      ],
      "metadata": {
        "id": "KKvm0txtpE7u"
      }
    },
    {
      "cell_type": "code",
      "source": [
        "#Slicing in 1D arrays\n",
        "\n",
        "import numpy as np\n",
        "\n",
        "arr=np.array([1,2,3,4,5,6,7])\n",
        "print(arr[1:5])\n",
        "print(arr[4:])\n",
        "print(arr[:4])\n",
        "print(arr[-3:-1])\n",
        "print(arr[1:5:2])\n",
        "print(arr[::2])"
      ],
      "metadata": {
        "colab": {
          "base_uri": "https://localhost:8080/"
        },
        "id": "1PrQDWhPpPX6",
        "outputId": "871ee0fb-9b79-4d01-d49d-57d0142167f7"
      },
      "execution_count": 43,
      "outputs": [
        {
          "output_type": "stream",
          "name": "stdout",
          "text": [
            "[2 3 4 5]\n",
            "[5 6 7]\n",
            "[1 2 3 4]\n",
            "[5 6]\n",
            "[2 4]\n",
            "[1 3 5 7]\n"
          ]
        }
      ]
    },
    {
      "cell_type": "code",
      "source": [
        "#Slicing in 2D Arrays\n",
        "\n",
        "import numpy as np\n",
        "\n",
        "arr=np.array([[1,2,3,4,5],[6,7,8,9,10]])\n",
        "print(arr[1,1:4])\n",
        "print(arr[0:2,2])  # 0:2 means rows 0 and 1\n",
        "print(arr[0:2,1:4])   #both rows columns 1 2 3\n",
        "print(arr[::2])    #::2 means take every 2nd row, starting from index 0."
      ],
      "metadata": {
        "colab": {
          "base_uri": "https://localhost:8080/"
        },
        "id": "5zKIaz3ZqCtG",
        "outputId": "d71829ed-605c-4ce0-c043-3dafb4ed8606"
      },
      "execution_count": 44,
      "outputs": [
        {
          "output_type": "stream",
          "name": "stdout",
          "text": [
            "[7 8 9]\n",
            "[3 8]\n",
            "[[2 3 4]\n",
            " [7 8 9]]\n",
            "[[1 2 3 4 5]]\n"
          ]
        }
      ]
    },
    {
      "cell_type": "markdown",
      "source": [
        "#Iterating Arrays"
      ],
      "metadata": {
        "id": "YXeFw-oWq52o"
      }
    },
    {
      "cell_type": "code",
      "source": [
        "import numpy as np\n",
        "\n",
        "#1D Array\n",
        "arr=np.array([1,2,3])\n",
        "for x in arr:\n",
        "  print(x)\n",
        "\n",
        "#2D Array\n",
        "arr=np.array([[1,2,3],[4,5,6]])\n",
        "for x in arr:\n",
        "  print(x)\n",
        "\n",
        "#2D Array element wise\n",
        "arr=np.array([[1,2,3],[4,5,6]])\n",
        "for x in arr:\n",
        "  for y in x:\n",
        "    print(y)\n",
        "\n"
      ],
      "metadata": {
        "colab": {
          "base_uri": "https://localhost:8080/"
        },
        "id": "ojAIcluYrZaJ",
        "outputId": "88247675-14e0-448f-ad55-8eba774f5c74"
      },
      "execution_count": 45,
      "outputs": [
        {
          "output_type": "stream",
          "name": "stdout",
          "text": [
            "1\n",
            "2\n",
            "3\n",
            "[1 2 3]\n",
            "[4 5 6]\n",
            "1\n",
            "2\n",
            "3\n",
            "4\n",
            "5\n",
            "6\n"
          ]
        }
      ]
    },
    {
      "cell_type": "code",
      "source": [
        "#Iterate 3D Arrays\n",
        "\n",
        "arr=np.array([[[1,2,3],[4,5,6],[7,8,9]]])\n",
        "for x in arr:\n",
        "  print(x)\n",
        "\n",
        "arr=np.array([[[1,2,3],[4,5,6],[7,8,9]]])\n",
        "for x in arr:\n",
        "  for y in x:\n",
        "    for z in y:\n",
        "      print(z)"
      ],
      "metadata": {
        "colab": {
          "base_uri": "https://localhost:8080/"
        },
        "id": "tNp3YMT5sndZ",
        "outputId": "f8814597-10b4-4e16-9279-790324496fe9"
      },
      "execution_count": 46,
      "outputs": [
        {
          "output_type": "stream",
          "name": "stdout",
          "text": [
            "[[1 2 3]\n",
            " [4 5 6]\n",
            " [7 8 9]]\n",
            "1\n",
            "2\n",
            "3\n",
            "4\n",
            "5\n",
            "6\n",
            "7\n",
            "8\n",
            "9\n"
          ]
        }
      ]
    },
    {
      "cell_type": "code",
      "source": [
        "#np.take -> built in function to perform indexing & slicing\n",
        "\n",
        "arr=np.array([1,2,3,4,5,6])\n",
        "print(np.take(arr,[0,2,4]))\n",
        "\n",
        "array2=np.array([10,20,30,40,50])\n",
        "ind=[0,2]\n",
        "print(np.take(array2,ind))"
      ],
      "metadata": {
        "colab": {
          "base_uri": "https://localhost:8080/"
        },
        "id": "2N4W-_JNs5CV",
        "outputId": "7bbc79a0-bb21-4eee-ca4a-094ac3492502"
      },
      "execution_count": 47,
      "outputs": [
        {
          "output_type": "stream",
          "name": "stdout",
          "text": [
            "[1 3 5]\n",
            "[10 30]\n"
          ]
        }
      ]
    },
    {
      "cell_type": "code",
      "source": [
        "#nditer\n",
        "\n",
        "arr=np.array([[1,2],[3,4]])\n",
        "for x in np.nditer(arr):\n",
        "  print(x)"
      ],
      "metadata": {
        "colab": {
          "base_uri": "https://localhost:8080/"
        },
        "id": "0xy40gIVtiBV",
        "outputId": "b08ea910-b6a1-4073-a6ef-5baff3af3693"
      },
      "execution_count": 48,
      "outputs": [
        {
          "output_type": "stream",
          "name": "stdout",
          "text": [
            "1\n",
            "2\n",
            "3\n",
            "4\n"
          ]
        }
      ]
    },
    {
      "cell_type": "code",
      "source": [
        "#ndenumerate -> both index & values\n",
        "\n",
        "for ind , x in np.ndenumerate(arr):\n",
        "  print(ind,x)"
      ],
      "metadata": {
        "colab": {
          "base_uri": "https://localhost:8080/"
        },
        "id": "UXigCTkgtymI",
        "outputId": "434249f8-e6c6-4512-b21a-825663324925"
      },
      "execution_count": 49,
      "outputs": [
        {
          "output_type": "stream",
          "name": "stdout",
          "text": [
            "(0, 0) 1\n",
            "(0, 1) 2\n",
            "(1, 0) 3\n",
            "(1, 1) 4\n"
          ]
        }
      ]
    },
    {
      "cell_type": "code",
      "source": [
        "#Transpose\n",
        "\n",
        "arr=np.array([[1,2,3],[4,5,6]])\n",
        "print(arr)\n",
        "print(arr.transpose())   # or print(arr.T)"
      ],
      "metadata": {
        "colab": {
          "base_uri": "https://localhost:8080/"
        },
        "id": "hnG-LRUWuAhi",
        "outputId": "eac655fb-8996-4579-aad2-7ac39b2b06eb"
      },
      "execution_count": 50,
      "outputs": [
        {
          "output_type": "stream",
          "name": "stdout",
          "text": [
            "[[1 2 3]\n",
            " [4 5 6]]\n",
            "[[1 4]\n",
            " [2 5]\n",
            " [3 6]]\n"
          ]
        }
      ]
    },
    {
      "cell_type": "code",
      "source": [
        "#swapaxes -> swap 2 specific axes in a matrix\n",
        "\n",
        "arr=np.array([[1,2,3],[4,5,6]])\n",
        "print(arr)\n",
        "print(np.swapaxes(arr,0,1))"
      ],
      "metadata": {
        "colab": {
          "base_uri": "https://localhost:8080/"
        },
        "id": "Gs5EagLiuS5j",
        "outputId": "e5b2569b-ab39-4082-fbac-af046f77debc"
      },
      "execution_count": 51,
      "outputs": [
        {
          "output_type": "stream",
          "name": "stdout",
          "text": [
            "[[1 2 3]\n",
            " [4 5 6]]\n",
            "[[1 4]\n",
            " [2 5]\n",
            " [3 6]]\n"
          ]
        }
      ]
    },
    {
      "cell_type": "markdown",
      "source": [
        "#Array Concatenation\n",
        "\n",
        "*In sql we join tables based on a key , whereas in Numpy we join arrays by axes.\n"
      ],
      "metadata": {
        "id": "VLc_kyTfurVB"
      }
    },
    {
      "cell_type": "code",
      "source": [
        "import numpy as np\n",
        "\n",
        "#join two 1D array\n",
        "arr1=np.array([1,2,3])\n",
        "arr2=np.array([4,5,6])\n",
        "arr5=np.concatenate((arr1,arr2))\n",
        "print(arr5)\n",
        "\n",
        "#join two 2D Arrays (axis=1)\n",
        "arr3=np.array([[1,2],[3,4]])\n",
        "arr4=np.array([[5,6],[7,8]])\n",
        "arr6=np.concatenate((arr3,arr4),axis=1)\n",
        "print(arr6)"
      ],
      "metadata": {
        "colab": {
          "base_uri": "https://localhost:8080/"
        },
        "id": "zll2eFwWu-ql",
        "outputId": "b61cb110-e421-45ab-de70-c76acecfe0d2"
      },
      "execution_count": 52,
      "outputs": [
        {
          "output_type": "stream",
          "name": "stdout",
          "text": [
            "[1 2 3 4 5 6]\n",
            "[[1 2 5 6]\n",
            " [3 4 7 8]]\n"
          ]
        }
      ]
    },
    {
      "cell_type": "markdown",
      "source": [
        "Joining Arrays Using Stack Functions\n",
        "\n",
        "*Stacking is same as concatenation,the only difference is that stacking is done along a new axes.\n",
        "\n",
        "*we can concatenate two 1D arrays along the second axis which would result in putting them one over the other ie.Staking.\n",
        "\n",
        "*We pass a sequence of arrays that we want to join to the stack() method along with the axis.If axis is not explicitly passes it is taken as 0.\n",
        "\n",
        "\n",
        "*can be peformed by stack with axis or direclty use hstack or vstack"
      ],
      "metadata": {
        "id": "R7PXgldowIv7"
      }
    },
    {
      "cell_type": "code",
      "source": [
        "import numpy as np\n",
        "\n",
        "arr1=np.array([1,2,3])\n",
        "arr2=np.array([4,5,6])\n",
        "arr=np.stack((arr1,arr2))\n",
        "print(arr)\n",
        "\n",
        "arr=np.stack((arr1,arr2),axis=1)\n",
        "print(arr)"
      ],
      "metadata": {
        "colab": {
          "base_uri": "https://localhost:8080/"
        },
        "id": "yxlW_WR1w5fm",
        "outputId": "d2d34331-f907-4a7c-8dfd-7e5fb3b6eaf4"
      },
      "execution_count": 53,
      "outputs": [
        {
          "output_type": "stream",
          "name": "stdout",
          "text": [
            "[[1 2 3]\n",
            " [4 5 6]]\n",
            "[[1 4]\n",
            " [2 5]\n",
            " [3 6]]\n"
          ]
        }
      ]
    },
    {
      "cell_type": "code",
      "source": [
        "#hstack -> horizontal stack\n",
        "\n",
        "arr1=np.array([1,2,3])\n",
        "arr2=np.array([4,5,6])\n",
        "arr=np.hstack((arr1,arr2))\n",
        "print(arr)\n",
        "\n",
        "#vstack -> vertical stack\n",
        "arr=np.vstack((arr1,arr2))\n",
        "print(arr)"
      ],
      "metadata": {
        "colab": {
          "base_uri": "https://localhost:8080/"
        },
        "id": "vMBskTl2xinE",
        "outputId": "5e66a738-816b-48cb-ad72-cc4eb887584f"
      },
      "execution_count": 54,
      "outputs": [
        {
          "output_type": "stream",
          "name": "stdout",
          "text": [
            "[1 2 3 4 5 6]\n",
            "[[1 2 3]\n",
            " [4 5 6]]\n"
          ]
        }
      ]
    },
    {
      "cell_type": "code",
      "source": [
        "#dstack() to stack along height, which is the same as depth.\n",
        "\n",
        "import numpy as np\n",
        "\n",
        "arr1 = np.array([1, 2, 3])\n",
        "\n",
        "arr2 = np.array([4, 5, 6])\n",
        "\n",
        "arr = np.dstack((arr1, arr2))\n",
        "\n",
        "print(arr)"
      ],
      "metadata": {
        "colab": {
          "base_uri": "https://localhost:8080/"
        },
        "id": "ZyNkBYBHEM8d",
        "outputId": "0c6183c5-a293-491a-a1dd-7bb7bcc2d8b3"
      },
      "execution_count": 55,
      "outputs": [
        {
          "output_type": "stream",
          "name": "stdout",
          "text": [
            "[[[1 4]\n",
            "  [2 5]\n",
            "  [3 6]]]\n"
          ]
        }
      ]
    },
    {
      "cell_type": "markdown",
      "source": [
        "Array splitting\n",
        "\n",
        "*splitting is reverse operation of joining.\n",
        "\n",
        "*Joining merges multiple arrays into one and splitting breaks one array into multiple.\n",
        "\n",
        "*we use array split() for splitting arrays we pass it the array we want to split and the number of splits.\n",
        "\n"
      ],
      "metadata": {
        "id": "uAKhjwCix8mg"
      }
    },
    {
      "cell_type": "code",
      "source": [
        "import numpy as np\n",
        "\n",
        "#1D Arrays\n",
        "#split the array in  parts.\n",
        "arr=np.array([1,2,3,4,5,6])\n",
        "newarr=np.array_split(arr,3)\n",
        "print(newarr)\n",
        "\n",
        "#split the array in 4 parts.\n",
        "arr=np.array([1,2,3,4,5,6])\n",
        "newarr=np.array_split(arr,4)   #If the last elements than req , it will adjust from the end accordingly\n",
        "print(newarr)"
      ],
      "metadata": {
        "colab": {
          "base_uri": "https://localhost:8080/"
        },
        "id": "LNJcP7HIyfsn",
        "outputId": "ce17fd1a-0db2-4ffd-884f-d053c56b525b"
      },
      "execution_count": 56,
      "outputs": [
        {
          "output_type": "stream",
          "name": "stdout",
          "text": [
            "[array([1, 2]), array([3, 4]), array([5, 6])]\n",
            "[array([1, 2]), array([3, 4]), array([5]), array([6])]\n"
          ]
        }
      ]
    },
    {
      "cell_type": "code",
      "source": [
        "#2D Arrays.\n",
        "\n",
        "import numpy as np\n",
        "\n",
        "arr=np.array([[1,2],[3,4],[5,6],[7,8],[9,10],[11,12]])\n",
        "newarr=np.array_split(arr,3)\n",
        "print(newarr)"
      ],
      "metadata": {
        "colab": {
          "base_uri": "https://localhost:8080/"
        },
        "id": "TThenjRHzg3l",
        "outputId": "4de3a3a3-8756-4594-922a-cc77a22005ef"
      },
      "execution_count": 57,
      "outputs": [
        {
          "output_type": "stream",
          "name": "stdout",
          "text": [
            "[array([[1, 2],\n",
            "       [3, 4]]), array([[5, 6],\n",
            "       [7, 8]]), array([[ 9, 10],\n",
            "       [11, 12]])]\n"
          ]
        }
      ]
    },
    {
      "cell_type": "code",
      "source": [
        "#Split the 2-D array into three 2-D arrays along columns\n",
        "\n",
        "import numpy as np\n",
        "\n",
        "arr = np.array([[1, 2, 3], [4, 5, 6], [7, 8, 9], [10, 11, 12], [13, 14, 15], [16, 17, 18]])\n",
        "\n",
        "newarr = np.array_split(arr, 3, axis=1)\n",
        "\n",
        "print(newarr)"
      ],
      "metadata": {
        "colab": {
          "base_uri": "https://localhost:8080/"
        },
        "id": "ad-4GILwE2nx",
        "outputId": "7dfbe278-d128-4d9f-d6c6-d0b702f723b6"
      },
      "execution_count": 58,
      "outputs": [
        {
          "output_type": "stream",
          "name": "stdout",
          "text": [
            "[array([[ 1],\n",
            "       [ 4],\n",
            "       [ 7],\n",
            "       [10],\n",
            "       [13],\n",
            "       [16]]), array([[ 2],\n",
            "       [ 5],\n",
            "       [ 8],\n",
            "       [11],\n",
            "       [14],\n",
            "       [17]]), array([[ 3],\n",
            "       [ 6],\n",
            "       [ 9],\n",
            "       [12],\n",
            "       [15],\n",
            "       [18]])]\n"
          ]
        }
      ]
    },
    {
      "cell_type": "code",
      "source": [
        "#An alternate solution is using hsplit() opposite of hstack()\n",
        "\n",
        "import numpy as np\n",
        "\n",
        "arr = np.array([[1, 2, 3], [4, 5, 6], [7, 8, 9], [10, 11, 12], [13, 14, 15], [16, 17, 18]])\n",
        "\n",
        "newarr = np.hsplit(arr, 3)\n",
        "\n",
        "print(newarr)"
      ],
      "metadata": {
        "colab": {
          "base_uri": "https://localhost:8080/"
        },
        "id": "IHbhTzbaFD7H",
        "outputId": "cc206eaa-2dc7-4fe1-c46e-fd78c2b33601"
      },
      "execution_count": 59,
      "outputs": [
        {
          "output_type": "stream",
          "name": "stdout",
          "text": [
            "[array([[ 1],\n",
            "       [ 4],\n",
            "       [ 7],\n",
            "       [10],\n",
            "       [13],\n",
            "       [16]]), array([[ 2],\n",
            "       [ 5],\n",
            "       [ 8],\n",
            "       [11],\n",
            "       [14],\n",
            "       [17]]), array([[ 3],\n",
            "       [ 6],\n",
            "       [ 9],\n",
            "       [12],\n",
            "       [15],\n",
            "       [18]])]\n"
          ]
        }
      ]
    },
    {
      "cell_type": "code",
      "source": [
        "#repeat - each element\n",
        "\n",
        "arr=np.array([1,2,3])\n",
        "print(np.repeat(arr,3))\n",
        "\n",
        "#tile - repeat the whole array\n",
        "\n",
        "print(np.tile(arr,2))"
      ],
      "metadata": {
        "colab": {
          "base_uri": "https://localhost:8080/"
        },
        "id": "vI-0Tpoy0EUe",
        "outputId": "67bc8518-61e5-4370-852d-3726aacd253d"
      },
      "execution_count": 60,
      "outputs": [
        {
          "output_type": "stream",
          "name": "stdout",
          "text": [
            "[1 1 1 2 2 2 3 3 3]\n",
            "[1 2 3 1 2 3]\n"
          ]
        }
      ]
    },
    {
      "cell_type": "code",
      "source": [
        "import numpy as np\n",
        "\n",
        "#where -> conditions\n",
        "arr=np.array([1,2,3])\n",
        "result=np.where(arr<2,\"Low\",\"High\")\n",
        "print(result)\n",
        "\n",
        "arr = np.array([1, 2, 3, 4, 5, 4, 4])\n",
        "x = np.where(arr == 4)         #prints the indexes.\n",
        "print(x)\n",
        "\n",
        "\n",
        "arr = np.array([1, 2, 3, 4, 5, 6, 7, 8])\n",
        "x = np.where(arr%2 == 1)          #Find the indexes where the values are odd:\n",
        "print(x)"
      ],
      "metadata": {
        "colab": {
          "base_uri": "https://localhost:8080/"
        },
        "id": "wx1WoHzU0t_G",
        "outputId": "5ff37ab2-7de8-4a99-a4d0-67114e9f7623"
      },
      "execution_count": 61,
      "outputs": [
        {
          "output_type": "stream",
          "name": "stdout",
          "text": [
            "['Low' 'High' 'High']\n",
            "(array([3, 5, 6]),)\n",
            "(array([0, 2, 4, 6]),)\n"
          ]
        }
      ]
    },
    {
      "cell_type": "code",
      "source": [
        "#The searchsorted() method is assumed to be used on sorted arrays.\n",
        "\n",
        "import numpy as np\n",
        "arr = np.array([6, 7, 8, 9])\n",
        "x = np.searchsorted(arr, 7)    #Find the indexes where the value 7 should be inserted:\n",
        "print(x)\n",
        "\n",
        "arr = np.array([6, 7, 8, 9])\n",
        "x = np.searchsorted(arr, 7, side='right')\n",
        "print(x)\n",
        "\n",
        "\n",
        "arr = np.array([1, 3, 5, 7])\n",
        "x = np.searchsorted(arr, [2, 4, 6])\n",
        "print(x)"
      ],
      "metadata": {
        "colab": {
          "base_uri": "https://localhost:8080/"
        },
        "id": "X7x3xV2xFm_2",
        "outputId": "21ee69ff-b52b-4a73-903f-929f4aa06bce"
      },
      "execution_count": 62,
      "outputs": [
        {
          "output_type": "stream",
          "name": "stdout",
          "text": [
            "1\n",
            "2\n",
            "[1 2 3]\n"
          ]
        }
      ]
    },
    {
      "cell_type": "code",
      "source": [
        "import numpy as np\n",
        "\n",
        "#argwhere - row column positions(index) for 2d arrays\n",
        "\n",
        "arr=np.array([10,25,35,50])\n",
        "print(np.argwhere(arr>20))"
      ],
      "metadata": {
        "colab": {
          "base_uri": "https://localhost:8080/"
        },
        "id": "TdMp12QX1C73",
        "outputId": "1a3592d3-df8e-4b08-eb4d-45905c9449e0"
      },
      "execution_count": 63,
      "outputs": [
        {
          "output_type": "stream",
          "name": "stdout",
          "text": [
            "[[1]\n",
            " [2]\n",
            " [3]]\n"
          ]
        }
      ]
    },
    {
      "cell_type": "code",
      "source": [
        "import numpy as np\n",
        "\n",
        "arr=np.array([[1,2,3],[4,5,6]])\n",
        "total_sum=np.sum(arr)\n",
        "print(total_sum)\n",
        "\n",
        "column_sum=np.sum(arr,axis=0)\n",
        "row_sum=np.sum(arr,axis=1)\n",
        "print(column_sum)\n",
        "print(row_sum)"
      ],
      "metadata": {
        "colab": {
          "base_uri": "https://localhost:8080/"
        },
        "id": "ROSZJKko3mQl",
        "outputId": "e2762e11-c74d-48d8-da8f-f6593f3109d0"
      },
      "execution_count": 64,
      "outputs": [
        {
          "output_type": "stream",
          "name": "stdout",
          "text": [
            "21\n",
            "[5 7 9]\n",
            "[ 6 15]\n"
          ]
        }
      ]
    },
    {
      "cell_type": "code",
      "source": [
        "import numpy as np\n",
        "\n",
        "import numpy as np\n",
        "arr = np.array([10, 20, 30, 40, 50])\n",
        "print(\"Original Array:\", arr)\n",
        "\n",
        "# Aggregation functions\n",
        "print(\"1. Sum:\", np.sum(arr))\n",
        "print(\"2. Mean (Average):\", np.mean(arr))\n",
        "print(\"3. Median:\", np.median(arr))\n",
        "print(\"4. Standard Deviation:\", np.std(arr))\n",
        "print(\"5. Variance:\", np.var(arr))\n",
        "print(\"6. Minimum Value:\", np.min(arr))\n",
        "print(\"7. Maximum Value:\", np.max(arr))\n",
        "print(\"8. Index of Minimum Value:\", np.argmin(arr))\n",
        "print(\"9. Index of Maximum Value:\", np.argmax(arr))\n",
        "print(\"10. Cumulative Sum:\", np.cumsum(arr))\n",
        "print(\"11. Cumulative Product:\", np.cumprod(arr))\n",
        "print(\"12. 25th Percentile:\", np.percentile(arr, 25))\n",
        "print(\"13. 50th Percentile (Median):\", np.percentile(arr, 50))\n",
        "print(\"14. 75th Percentile:\", np.percentile(arr, 75))\n",
        "print(np.sort(arr))"
      ],
      "metadata": {
        "colab": {
          "base_uri": "https://localhost:8080/"
        },
        "id": "7_Eizf_C6IoE",
        "outputId": "376f8c46-783b-47b2-9fcd-4931554309e7"
      },
      "execution_count": 65,
      "outputs": [
        {
          "output_type": "stream",
          "name": "stdout",
          "text": [
            "Original Array: [10 20 30 40 50]\n",
            "1. Sum: 150\n",
            "2. Mean (Average): 30.0\n",
            "3. Median: 30.0\n",
            "4. Standard Deviation: 14.142135623730951\n",
            "5. Variance: 200.0\n",
            "6. Minimum Value: 10\n",
            "7. Maximum Value: 50\n",
            "8. Index of Minimum Value: 0\n",
            "9. Index of Maximum Value: 4\n",
            "10. Cumulative Sum: [ 10  30  60 100 150]\n",
            "11. Cumulative Product: [      10      200     6000   240000 12000000]\n",
            "12. 25th Percentile: 20.0\n",
            "13. 50th Percentile (Median): 30.0\n",
            "14. 75th Percentile: 40.0\n",
            "[10 20 30 40 50]\n"
          ]
        }
      ]
    },
    {
      "cell_type": "code",
      "source": [
        "  #vectorize -> convert a regular function to be applied on an array.\n",
        "\n",
        "import numpy as np\n",
        "def square(x):\n",
        "    return x*x\n",
        "vfunc=np.vectorize(square)\n",
        "\n",
        "arr=np.array([1,2,3,4])\n",
        "print(vfunc(arr))"
      ],
      "metadata": {
        "colab": {
          "base_uri": "https://localhost:8080/"
        },
        "id": "b0XB6AsYqPyJ",
        "outputId": "5dcd83f4-b839-4e66-9d86-fa56964eeed1"
      },
      "execution_count": 66,
      "outputs": [
        {
          "output_type": "stream",
          "name": "stdout",
          "text": [
            "[ 1  4  9 16]\n"
          ]
        }
      ]
    },
    {
      "cell_type": "code",
      "source": [
        "#Broadcasting -> Numpy compares the shape of the arrays from the end (right to left) & follows these rules\n",
        "   #*If shapes are equal they're compatible\n",
        "   #*If one is 1,it can be started to match the other.\n",
        "   #*If shapes are different & not 1 or equal -> error.\n",
        "\n",
        "import numpy as np\n",
        "\n",
        "\n",
        "arr = np.array([1, 2, 3, 4])\n",
        "print(arr + 5)\n",
        "\n",
        "matrix = np.array([[1, 2, 3],\n",
        "                   [4, 5, 6]])\n",
        "vector = np.array([10, 20, 30])\n",
        "\n",
        "print(matrix + vector)\n"
      ],
      "metadata": {
        "colab": {
          "base_uri": "https://localhost:8080/"
        },
        "id": "Di1i2GkUstKm",
        "outputId": "4ef4556f-8c70-4841-9dfd-f78c416a6553"
      },
      "execution_count": 67,
      "outputs": [
        {
          "output_type": "stream",
          "name": "stdout",
          "text": [
            "[6 7 8 9]\n",
            "[[11 22 33]\n",
            " [14 25 36]]\n"
          ]
        }
      ]
    },
    {
      "cell_type": "code",
      "source": [
        "import numpy as np\n",
        "\n",
        "arr = np.array([10, 20, 30, 40, 50])\n",
        "mask = np.logical_and(arr > 15, arr < 35)\n",
        "print(mask)\n",
        "\n"
      ],
      "metadata": {
        "colab": {
          "base_uri": "https://localhost:8080/"
        },
        "id": "hdGTjytRu2Tw",
        "outputId": "01d71d64-e7a8-4558-c72b-639314ccf8bc"
      },
      "execution_count": 68,
      "outputs": [
        {
          "output_type": "stream",
          "name": "stdout",
          "text": [
            "[False  True  True False False]\n"
          ]
        }
      ]
    },
    {
      "cell_type": "code",
      "source": [
        "#The main difference between a copy and a view of an array is that the copy is a new array,\n",
        "# and the view is just a view of the original array\n",
        "\n",
        "#view\n",
        "\n",
        "arr = np.array([1, 2, 3, 4, 5])\n",
        "x = arr.copy()\n",
        "arr[0] = 42\n",
        "\n",
        "print(arr)\n",
        "print(x)"
      ],
      "metadata": {
        "colab": {
          "base_uri": "https://localhost:8080/"
        },
        "id": "MJ70cpLDvbFd",
        "outputId": "305fe4e1-b3a2-45ac-ac17-f18d41958029"
      },
      "execution_count": 69,
      "outputs": [
        {
          "output_type": "stream",
          "name": "stdout",
          "text": [
            "[42  2  3  4  5]\n",
            "[1 2 3 4 5]\n"
          ]
        }
      ]
    },
    {
      "cell_type": "code",
      "source": [
        "#copy\n",
        "\n",
        "arr = np.array([1, 2, 3, 4, 5])\n",
        "x = arr.view()\n",
        "arr[0] = 42\n",
        "\n",
        "print(arr)\n",
        "print(x)"
      ],
      "metadata": {
        "colab": {
          "base_uri": "https://localhost:8080/"
        },
        "id": "tzb6tCOwxDUh",
        "outputId": "8815a11d-0d5d-41b6-f269-9e9579ece317"
      },
      "execution_count": 70,
      "outputs": [
        {
          "output_type": "stream",
          "name": "stdout",
          "text": [
            "[42  2  3  4  5]\n",
            "[42  2  3  4  5]\n"
          ]
        }
      ]
    },
    {
      "cell_type": "markdown",
      "source": [
        "#NUMPY's STRUCTURED ARRAY\n",
        "\n",
        "*Structured Array is similar to the Struct in c.It is used for grouping data of different data types and sizes.\n",
        "\n",
        "*structured arra uses data containers called fields.Each data field can contain data of any data type and size.\n",
        "\n",
        "*Array elements can be accessed with the help of dot notation.\n",
        "\n",
        "*To create a structured array in Numpy,we need to define a dtype(data type) that specifies the namesand types of each field."
      ],
      "metadata": {
        "id": "mtHvyaNr4mKg"
      }
    },
    {
      "cell_type": "code",
      "source": [
        "import numpy as np\n",
        "\n",
        "import numpy as np\n",
        "\n",
        "# Define the structure (field names and data types)\n",
        "employee_dtype = np.dtype([\n",
        "    ('name', 'U10'),     # 'U10' = string of max length 10\n",
        "    ('age', 'i4'),       # 'i4' = 4-byte integer\n",
        "    ('salary', 'f8')     # 'f8' = 8-byte float\n",
        "])\n",
        "\n",
        "# Create an array of structured data\n",
        "employees = np.array([\n",
        "    ('Alice', 25, 50000.0),\n",
        "    ('Bob', 30, 60000.0),\n",
        "    ('Charlie', 28, 55000.0)\n",
        "], dtype=employee_dtype)\n",
        "\n",
        "print(employees)\n",
        "\n",
        "print(employees['name'])\n",
        "# Output: ['Alice' 'Bob' 'Charlie']\n",
        "\n",
        "print(employees['age'])\n",
        "# Output: [25 30 28]\n",
        "\n",
        "print(employees['salary'])\n",
        "# Output: [50000. 60000. 55000.]\n",
        "\n"
      ],
      "metadata": {
        "colab": {
          "base_uri": "https://localhost:8080/"
        },
        "id": "inW3LRDW5SK1",
        "outputId": "011d60ae-10fb-43fd-f033-077b31fa0730"
      },
      "execution_count": 71,
      "outputs": [
        {
          "output_type": "stream",
          "name": "stdout",
          "text": [
            "[('Alice', 25, 50000.) ('Bob', 30, 60000.) ('Charlie', 28, 55000.)]\n",
            "['Alice' 'Bob' 'Charlie']\n",
            "[25 30 28]\n",
            "[50000. 60000. 55000.]\n"
          ]
        }
      ]
    },
    {
      "cell_type": "code",
      "source": [
        "import numpy as np\n",
        "\n",
        "# Define the structure (field names and data types)\n",
        "dt = np.dtype([('name', 'U20'),('age', np.int32),('grade', np.float64)])\n",
        "\n",
        "data = np.array([('Alice', 25, 4.8), ('Bob', 23, 3.9), ('Charlie', 27, 4.5)], dtype=dt)\n",
        "\n",
        "a = np.array([('Sana', 2, 21.0),('Mansi', 7, 29.0)], dtype=dt)\n",
        "\n",
        "         # Sorting according to the name\n",
        "b = np.sort(a, order='name')\n",
        "print('Sorting according to the name', b)\n",
        "\n",
        "        # Sorting according to the age\n",
        "b = np.sort(a, order='age')\n",
        "print('\\nSorting according to the age',b)\n",
        "\n",
        "            # New record\n",
        "new_record = np.array([('Anjali', 5, 24.5)], dtype=dt)\n",
        "# Concatenate the new record to the existing array\n",
        "a = np.concatenate((a, new_record))\n",
        "print(\"After adding new record:\\n\", a)\n",
        "# New dtype with an added column 'status'\n",
        "new_dt = np.dtype([('name', 'U20'), ('age', np.int32), ('grade', np.float64), ('status', 'U10')])\n",
        "# Create new structured array with default status 'Pass'\n",
        "new_array = np.empty(a.shape, dtype=new_dt)\n",
        "# Copy old data\n",
        "new_array['name'] = a['name']\n",
        "new_array['age'] = a['age']\n",
        "new_array['grade'] = a['grade']\n",
        "new_array['status'] = 'Pass'  # default value\n",
        "print(\"After adding new column:\\n\", new_array)"
      ],
      "metadata": {
        "colab": {
          "base_uri": "https://localhost:8080/"
        },
        "id": "97UxYYCeH9nj",
        "outputId": "f4b450eb-72b1-4090-8efe-d6893b5c0b38"
      },
      "execution_count": 79,
      "outputs": [
        {
          "output_type": "stream",
          "name": "stdout",
          "text": [
            "Sorting according to the name [('Mansi', 7, 29.) ('Sana', 2, 21.)]\n",
            "\n",
            "Sorting according to the age [('Sana', 2, 21.) ('Mansi', 7, 29.)]\n",
            "After adding new record:\n",
            " [('Sana', 2, 21. ) ('Mansi', 7, 29. ) ('Anjali', 5, 24.5)]\n",
            "After adding new column:\n",
            " [('Sana', 2, 21. , 'Pass') ('Mansi', 7, 29. , 'Pass')\n",
            " ('Anjali', 5, 24.5, 'Pass')]\n"
          ]
        }
      ]
    },
    {
      "cell_type": "code",
      "source": [
        "#Getting some elements out of an existing array and creating a new array out of them is called filtering.\n",
        "#In NumPy, you filter an array using a boolean index list\n",
        "\n",
        "\n",
        "# Filter employees with salary > 55000\n",
        "high_salary = employees[employees['salary'] > 55000]\n",
        "print(high_salary)\n",
        "\n",
        "employees['salary'] *= 1.10  # Give 10% raise\n",
        "print(employees)\n",
        "\n",
        "# Sort by salary\n",
        "sorted_employees = np.sort(employees, order='salary')\n",
        "print(sorted_employees)\n"
      ],
      "metadata": {
        "colab": {
          "base_uri": "https://localhost:8080/"
        },
        "id": "KVDrL1C37V9h",
        "outputId": "4315af79-8a27-4351-d352-7f578df68768"
      },
      "execution_count": 72,
      "outputs": [
        {
          "output_type": "stream",
          "name": "stdout",
          "text": [
            "[('Bob', 30, 60000.)]\n",
            "[('Alice', 25, 55000.) ('Bob', 30, 66000.) ('Charlie', 28, 60500.)]\n",
            "[('Alice', 25, 55000.) ('Charlie', 28, 60500.) ('Bob', 30, 66000.)]\n"
          ]
        }
      ]
    },
    {
      "cell_type": "code",
      "source": [
        "import numpy as np\n",
        "\n",
        "arr = np.array([41, 42, 43, 44])\n",
        "\n",
        "# Create an empty list\n",
        "filter_arr = []\n",
        "\n",
        "# go through each element in arr\n",
        "for element in arr:\n",
        "  # if the element is higher than 42, set the value to True, otherwise False:\n",
        "  if element > 42:\n",
        "    filter_arr.append(True)\n",
        "  else:\n",
        "    filter_arr.append(False)\n",
        "\n",
        "newarr = arr[filter_arr]\n",
        "\n",
        "print(filter_arr)\n",
        "print(newarr)\n",
        "\n",
        "\n",
        "\n",
        "arr = np.array([41, 42, 43, 44])\n",
        "filter_arr = arr > 42\n",
        "newarr = arr[filter_arr]\n",
        "\n",
        "print(filter_arr)\n",
        "print(newarr)"
      ],
      "metadata": {
        "colab": {
          "base_uri": "https://localhost:8080/"
        },
        "id": "YOgB_xOBGpIS",
        "outputId": "2f1d06f8-a5df-429e-89ff-8eac4885c568"
      },
      "execution_count": 73,
      "outputs": [
        {
          "output_type": "stream",
          "name": "stdout",
          "text": [
            "[False, False, True, True]\n",
            "[43 44]\n",
            "[False False  True  True]\n",
            "[43 44]\n"
          ]
        }
      ]
    }
  ]
}