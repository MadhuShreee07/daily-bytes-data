{
  "nbformat": 4,
  "nbformat_minor": 0,
  "metadata": {
    "colab": {
      "provenance": []
    },
    "kernelspec": {
      "name": "python3",
      "display_name": "Python 3"
    },
    "language_info": {
      "name": "python"
    }
  },
  "cells": [
    {
      "cell_type": "markdown",
      "source": [
        "#NUMPY\n",
        "\n",
        "Numpy-Numerical Python\n",
        "\n",
        "Numpy is a Python library used for\n",
        "working with arrays.\n",
        "\n",
        "Python lists are a substitute for arrays,but they fail to deliver the Performance required while computing large sets of numerical data.\n",
        "\n",
        "To address this issue we use the Numpy library of Python.Numpy offers an array object called ndarray\n",
        "\n",
        "#NUMPY VS PYTHON LIST\n",
        "\n",
        "Feature                | Python List                    | NumPy Array\n",
        "-----------------------|--------------------------------|-------------------------------\n",
        "Speed                  | Slow                           | Fast (optimized in C)\n",
        "Data Types             | Mixed allowed                  | Same data type only\n",
        "Memory Efficiency      | Less efficient                 | More efficient\n",
        "Math Operations        | Manual loop                    | Direct (vectorized)\n",
        "Built-in Functions     | Limited                        | Many powerful tools\n",
        "\n",
        "Why is Numpy Faster than Lists?\n",
        "\n",
        "\n",
        "Numpy arrays are stored at one continuous Place in memory unlike lists.so Processes can acceess and manipulate them very efficiently.\n",
        "\n",
        "\n",
        "\n",
        "\n",
        "\n",
        "\n",
        "\n"
      ],
      "metadata": {
        "id": "E67R5pb-UOp5"
      }
    },
    {
      "cell_type": "markdown",
      "source": [
        "DATA TYPES IN NUMPY:\n",
        "\n",
        "*Strings\n",
        "\n",
        "*integer(32bit and 64bit)\n",
        "\n",
        "*float(32bit and 64bit)\n",
        "\n",
        "*boolean\n",
        "\n",
        "*complex"
      ],
      "metadata": {
        "id": "iLUP6mw7Xf3u"
      }
    },
    {
      "cell_type": "markdown",
      "source": [
        "What is a Numpy Array?\n",
        "\n",
        "*Numpy array is a multidimensional data structure that is the core of scientific computing in python.\n",
        "\n",
        "*All values in an array are homogeneous(of the same datatype)\n",
        "\n",
        "*They provide efficient memory management,support various data types and are flexible with Indexing and slicing.\n",
        "\n"
      ],
      "metadata": {
        "id": "2HxfuaVUdhZ7"
      }
    },
    {
      "cell_type": "code",
      "source": [
        "#CREATING AN ARRAY\n",
        "\n",
        "import numpy as np    # alias -> np\n",
        "\n",
        "arr=np.array([1,2,3])\n",
        "arr"
      ],
      "metadata": {
        "colab": {
          "base_uri": "https://localhost:8080/"
        },
        "id": "j4AZ25X2eQuC",
        "outputId": "9a717dbc-72db-42af-e4b8-25677cb217cb"
      },
      "execution_count": 29,
      "outputs": [
        {
          "output_type": "execute_result",
          "data": {
            "text/plain": [
              "array([1, 2, 3])"
            ]
          },
          "metadata": {},
          "execution_count": 29
        }
      ]
    },
    {
      "cell_type": "code",
      "source": [
        "#type() -> This built-in Python functions tells us the type of the object Passed to it.\n",
        "\n",
        "type(arr)\n"
      ],
      "metadata": {
        "colab": {
          "base_uri": "https://localhost:8080/"
        },
        "id": "bwyECjFUVBvy",
        "outputId": "15a3f189-86d3-4eb6-8fab-1204ae4caaaf"
      },
      "execution_count": 30,
      "outputs": [
        {
          "output_type": "execute_result",
          "data": {
            "text/plain": [
              "numpy.ndarray"
            ]
          },
          "metadata": {},
          "execution_count": 30
        }
      ]
    },
    {
      "cell_type": "code",
      "source": [
        "#DIMENSTION IN ARRAYS\n",
        "\n",
        "# ndim - To check the dimension of an array\n",
        "\n",
        "#0D (zero-dimensional)\tScalar - A single element\n",
        "#1D (one-dimensional)\tVector- A list of integers.\n",
        "#2D (two-dimensional)\tMatrix- A spreadsheet of data\n",
        "#3D (three-dimensional)\tTensor- Storing a color image\n",
        "\n",
        "import numpy as np\n",
        "\n",
        "arr=np.array(42)\n",
        "brr=np.array([1,2,3,4,5])\n",
        "crr=np.array([[1,2,3],[4,5,6]])\n",
        "drr=np.array([[[1,2,3],[4,5,6],[7,8,9]]])\n",
        "print(arr.ndim)      # or print(np.ndim(a))\n",
        "print(brr.ndim)\n",
        "print(crr.ndim)\n",
        "print(drr.ndim)\n",
        "\n"
      ],
      "metadata": {
        "colab": {
          "base_uri": "https://localhost:8080/"
        },
        "id": "X8oYcd4ifVpS",
        "outputId": "4d68bd85-28ff-455a-c477-8de4ba4abb92"
      },
      "execution_count": 31,
      "outputs": [
        {
          "output_type": "stream",
          "name": "stdout",
          "text": [
            "0\n",
            "1\n",
            "2\n",
            "3\n"
          ]
        }
      ]
    },
    {
      "cell_type": "code",
      "source": [
        "#CREATING ARRAYS PYTHON VS NUMPY\n",
        "\n",
        "l = []                     # create empty list\n",
        "for i in range(10):\n",
        "    l.append(i)\n",
        "print(l)\n",
        "\n",
        "np.arange(0,10)\n"
      ],
      "metadata": {
        "colab": {
          "base_uri": "https://localhost:8080/"
        },
        "id": "bxu17CS7jq3R",
        "outputId": "6b02b06f-39be-405e-fb27-bd4b2eed4640"
      },
      "execution_count": 32,
      "outputs": [
        {
          "output_type": "stream",
          "name": "stdout",
          "text": [
            "[0, 1, 2, 3, 4, 5, 6, 7, 8, 9]\n"
          ]
        },
        {
          "output_type": "execute_result",
          "data": {
            "text/plain": [
              "array([0, 1, 2, 3, 4, 5, 6, 7, 8, 9])"
            ]
          },
          "metadata": {},
          "execution_count": 32
        }
      ]
    },
    {
      "cell_type": "code",
      "source": [
        "#linspace - (start,stop,number of values btw them)\n",
        "\n",
        "import numpy as np\n",
        "\n",
        "arr=np.linspace(0,10,5)      #DEFAULT VALUES IN NUMPY IS FLOAT.\n",
        "arr\n"
      ],
      "metadata": {
        "colab": {
          "base_uri": "https://localhost:8080/"
        },
        "id": "BBlLLTTZkbfL",
        "outputId": "610be112-2ceb-4bf9-88ba-3e571f66728f"
      },
      "execution_count": 33,
      "outputs": [
        {
          "output_type": "execute_result",
          "data": {
            "text/plain": [
              "array([ 0. ,  2.5,  5. ,  7.5, 10. ])"
            ]
          },
          "metadata": {},
          "execution_count": 33
        }
      ]
    },
    {
      "cell_type": "code",
      "source": [
        "#logspace - Logarithmic scale array(10 to the power) - (start,stop,noofvalues)\n",
        "\n",
        "arr=np.logspace(1,3,3)\n",
        "arr"
      ],
      "metadata": {
        "colab": {
          "base_uri": "https://localhost:8080/"
        },
        "id": "StNpUKrumEL7",
        "outputId": "8516bab7-115d-4a0f-b42d-866226f799b3"
      },
      "execution_count": 34,
      "outputs": [
        {
          "output_type": "execute_result",
          "data": {
            "text/plain": [
              "array([  10.,  100., 1000.])"
            ]
          },
          "metadata": {},
          "execution_count": 34
        }
      ]
    },
    {
      "cell_type": "code",
      "source": [
        "# zeros - Array full of zeros.\n",
        "# ones - Array full of ones.\n",
        "\n",
        "import numpy as np\n",
        "arr1=np.zeros(5)             #() - no of values\n",
        "print(arr1)\n",
        "\n",
        "arr2=np.zeros([2,3])        # 2 rows and 3 columns\n",
        "print(arr2)\n",
        "\n",
        "arr3=np.ones([4,2],dtype=int)     #changing the datatype to int.\n",
        "print(arr3)\n"
      ],
      "metadata": {
        "colab": {
          "base_uri": "https://localhost:8080/"
        },
        "id": "fvET0B8lmfcw",
        "outputId": "441d4c35-9f48-455e-f048-4471f11e9bb4"
      },
      "execution_count": 35,
      "outputs": [
        {
          "output_type": "stream",
          "name": "stdout",
          "text": [
            "[0. 0. 0. 0. 0.]\n",
            "[[0. 0. 0.]\n",
            " [0. 0. 0.]]\n",
            "[[1 1]\n",
            " [1 1]\n",
            " [1 1]\n",
            " [1 1]]\n"
          ]
        }
      ]
    },
    {
      "cell_type": "code",
      "source": [
        "#full -> create an array full of any values. - (row,column),defaultvalue\n",
        "\n",
        "arr=np.full(10,2)\n",
        "print(arr)\n",
        "\n",
        "arr2=np.full((2,3),5)\n",
        "print(arr2)\n"
      ],
      "metadata": {
        "colab": {
          "base_uri": "https://localhost:8080/"
        },
        "id": "-CEHzJqbnRlq",
        "outputId": "504ecaa6-0c94-42c3-abde-4906634ff5f8"
      },
      "execution_count": 36,
      "outputs": [
        {
          "output_type": "stream",
          "name": "stdout",
          "text": [
            "[2 2 2 2 2 2 2 2 2 2]\n",
            "[[5 5 5]\n",
            " [5 5 5]]\n"
          ]
        }
      ]
    },
    {
      "cell_type": "code",
      "source": [
        "#empty - uninitialized array -> create an array without setting any values.\n",
        "\n",
        "arr=np.empty([2,3])\n",
        "print(arr)"
      ],
      "metadata": {
        "colab": {
          "base_uri": "https://localhost:8080/"
        },
        "id": "SNPg5KaYnwNl",
        "outputId": "148d49c8-9967-4bc4-e522-32f5a95fa7b7"
      },
      "execution_count": 37,
      "outputs": [
        {
          "output_type": "stream",
          "name": "stdout",
          "text": [
            "[[0. 0. 0.]\n",
            " [0. 0. 0.]]\n"
          ]
        }
      ]
    },
    {
      "cell_type": "code",
      "source": [
        "#random.rand -> random floats () -> no of elemets / size of a an array\n",
        "\n",
        "arr=np.random.rand(5)\n",
        "print(arr)\n",
        "\n",
        "arr2=np.random.rand(2,5)\n",
        "print(arr2)"
      ],
      "metadata": {
        "colab": {
          "base_uri": "https://localhost:8080/"
        },
        "id": "IML1qfYdpT8k",
        "outputId": "75a0c790-6a00-4ea8-f0c6-0e6231b44046"
      },
      "execution_count": 38,
      "outputs": [
        {
          "output_type": "stream",
          "name": "stdout",
          "text": [
            "[0.94289897 0.93711909 0.59603261 0.09319873 0.2851347 ]\n",
            "[[0.37467728 0.46437081 0.93982674 0.96263235 0.99464411]\n",
            " [0.91299841 0.02308625 0.00964904 0.06216388 0.50619488]]\n"
          ]
        }
      ]
    },
    {
      "cell_type": "code",
      "source": [
        "#random.randn -> random floats from standard normal distribution (mean(avg=0),std dev=1)\n",
        "#prints both positive and negative value from 0 to 1\n",
        "\n",
        "arr=np.random.randn(2,3)\n",
        "print(arr)\n",
        "\n"
      ],
      "metadata": {
        "colab": {
          "base_uri": "https://localhost:8080/"
        },
        "id": "bvyr_eQtqJVD",
        "outputId": "17a9ad7c-ef30-48b3-f020-8be4f6f90da8"
      },
      "execution_count": 39,
      "outputs": [
        {
          "output_type": "stream",
          "name": "stdout",
          "text": [
            "[[ 0.06297683 -1.76808167  0.45134852]\n",
            " [ 0.02706654  0.6542255   0.76286447]]\n"
          ]
        }
      ]
    },
    {
      "cell_type": "code",
      "source": [
        "#np.random.randint -> just random integers - (from,to)\n",
        "\n",
        "arr=np.random.randint(10,100)\n",
        "arr\n",
        "\n",
        "arr=np.random.randint(10,100,size=(2,3))\n",
        "arr"
      ],
      "metadata": {
        "colab": {
          "base_uri": "https://localhost:8080/"
        },
        "id": "_ZwWkuHaqp-c",
        "outputId": "e06b5e0e-c370-421b-c579-dd2d4ce332f0"
      },
      "execution_count": 40,
      "outputs": [
        {
          "output_type": "execute_result",
          "data": {
            "text/plain": [
              "array([[98, 35, 42],\n",
              "       [95, 38, 52]])"
            ]
          },
          "metadata": {},
          "execution_count": 40
        }
      ]
    },
    {
      "cell_type": "code",
      "source": [
        "#TYPECASTING -converting one data type into another\n",
        "\n",
        "#converting list into numpy array.\n",
        "import numpy as np\n",
        "lst=[\"string\",1,2,5.6]\n",
        "arr=np.array(lst)\n",
        "print(arr)\n",
        "\n",
        "#converting int to float (vice versa also works)\n",
        "\n",
        "arr=np.array([1,2,3,4],dtype=float)\n",
        "print(arr)\n",
        "\n",
        "#astype()\n",
        "arr=np.array([1,2,3,4])\n",
        "print(arr.dtype)\n",
        "\n",
        "new_arr=arr.astype(float)\n",
        "print(new_arr)\n",
        "\n",
        "#Typecasting error\n",
        "\n",
        "#arr = np.array([\"hello\", \"world\"])\n",
        "#arr.astype(float)\n"
      ],
      "metadata": {
        "colab": {
          "base_uri": "https://localhost:8080/"
        },
        "id": "yWGEVYjstKH5",
        "outputId": "fa656744-326b-4d7c-fd0a-a36ad3bcc18e"
      },
      "execution_count": 41,
      "outputs": [
        {
          "output_type": "stream",
          "name": "stdout",
          "text": [
            "['string' '1' '2' '5.6']\n",
            "[1. 2. 3. 4.]\n",
            "int64\n",
            "[1. 2. 3. 4.]\n"
          ]
        }
      ]
    },
    {
      "cell_type": "code",
      "source": [
        "#Shape - The shape of an array is the number of elements in each dimension.\n",
        "#Numpy arrays have an attrib called shape that returns a tuple with each index having having the number of corresponding elements.\n",
        "\n",
        "import numpy as np\n",
        "\n",
        "arr=np.array([[1,2,3,4],[5,6,7,8]])\n",
        "print(arr.shape)\n",
        "\n",
        "arr=np.array([1,2,3,4],ndmin=5)\n",
        "print(arr)\n",
        "print(arr.shape)\n"
      ],
      "metadata": {
        "colab": {
          "base_uri": "https://localhost:8080/"
        },
        "id": "UQyu2BaAs_-W",
        "outputId": "610e8b2d-658c-4157-d5fb-049b08e26b4e"
      },
      "execution_count": 42,
      "outputs": [
        {
          "output_type": "stream",
          "name": "stdout",
          "text": [
            "(2, 4)\n",
            "[[[[[1 2 3 4]]]]]\n",
            "(1, 1, 1, 1, 4)\n"
          ]
        }
      ]
    },
    {
      "cell_type": "code",
      "source": [
        "#Numpy Array Reshaping - changing the shape of an array\n",
        "#shape of the array is the number of elements in each dimension.\n",
        "#By reshaping we can add or remove dimensions or change the number of elements in each dimension.\n",
        "\n",
        "#Reshape from 1d to 2d\n",
        "\n",
        "import numpy as np\n",
        "arr=np.array([1,2,3,4,5,6,7,8,9,10,11,12])\n",
        "new_arr=arr.reshape(4,3)\n",
        "print(new_arr)\n",
        "\n",
        "newarr=arr.reshape(2,3,2)\n",
        "print(newarr)\n",
        "\n",
        "\n"
      ],
      "metadata": {
        "colab": {
          "base_uri": "https://localhost:8080/"
        },
        "id": "CiwhUjS1wZfi",
        "outputId": "368ddb18-5fa1-40f8-ac2e-6a0f37d30b4a"
      },
      "execution_count": 43,
      "outputs": [
        {
          "output_type": "stream",
          "name": "stdout",
          "text": [
            "[[ 1  2  3]\n",
            " [ 4  5  6]\n",
            " [ 7  8  9]\n",
            " [10 11 12]]\n",
            "[[[ 1  2]\n",
            "  [ 3  4]\n",
            "  [ 5  6]]\n",
            "\n",
            " [[ 7  8]\n",
            "  [ 9 10]\n",
            "  [11 12]]]\n"
          ]
        }
      ]
    },
    {
      "cell_type": "code",
      "source": [
        "#ravel -> convert 1D array returns the view\n",
        "\n",
        "newarr=np.array([[1,2,3],[4,5,6]])\n",
        "ravel=np.ravel(newarr)\n",
        "print(ravel)\n",
        "\n",
        "ravel[0]=100\n",
        "print(ravel)\n",
        "print(newarr)"
      ],
      "metadata": {
        "colab": {
          "base_uri": "https://localhost:8080/"
        },
        "id": "TpBeC_9pypgb",
        "outputId": "8d0777a5-d5e6-4040-d9b4-ef8a2812360a"
      },
      "execution_count": 44,
      "outputs": [
        {
          "output_type": "stream",
          "name": "stdout",
          "text": [
            "[1 2 3 4 5 6]\n",
            "[100   2   3   4   5   6]\n",
            "[[100   2   3]\n",
            " [  4   5   6]]\n"
          ]
        }
      ]
    },
    {
      "cell_type": "code",
      "source": [
        "#Flattening the arrays\n",
        "\n",
        "#Flattening array means converting a multidimensional array into a 1D array.\n",
        "#returns a copy of the array.\n",
        "#We can use reshape(-1) to do this.\n",
        "\n",
        "import numpy as np\n",
        "\n",
        "arr=np.array([[1,2,3],[4,5,6]])\n",
        "new_arr=arr.reshape(-1)\n",
        "print(new_arr)\n",
        "\n",
        "flat=arr.flatten()\n",
        "print(flat)\n",
        "flat[0]=1\n",
        "print(flat)\n",
        "print(arr)"
      ],
      "metadata": {
        "colab": {
          "base_uri": "https://localhost:8080/"
        },
        "id": "7Lj5oBzwyQP5",
        "outputId": "ae5a401c-d9cc-4f86-c015-5149b9b64bb0"
      },
      "execution_count": 45,
      "outputs": [
        {
          "output_type": "stream",
          "name": "stdout",
          "text": [
            "[1 2 3 4 5 6]\n",
            "[1 2 3 4 5 6]\n",
            "[1 2 3 4 5 6]\n",
            "[[1 2 3]\n",
            " [4 5 6]]\n"
          ]
        }
      ]
    },
    {
      "cell_type": "code",
      "source": [
        "#Arithmetic opertors on Arrays\n",
        "\n",
        "import numpy as np\n",
        "a=np.array([1,2,3])\n",
        "b=np.array([4,5,6])\n",
        "print(a+b)   # or print(np.add(a,b))\n",
        "print(a-b)    # or print(np.subtract(a,b))\n",
        "print(b-a)\n",
        "print(a/b)\n",
        "print(b//a)\n",
        "print(a*b)     # or print(np.multiply(a,b))\n",
        "print(a%b)     # or print(np.mod(a,b))\n",
        "print(a**2)     # or print(np.power(a,b))"
      ],
      "metadata": {
        "colab": {
          "base_uri": "https://localhost:8080/"
        },
        "id": "6zlPGDJS-VXx",
        "outputId": "d444d754-2c5b-4b63-c87e-e1fcfe041218"
      },
      "execution_count": 46,
      "outputs": [
        {
          "output_type": "stream",
          "name": "stdout",
          "text": [
            "[5 7 9]\n",
            "[-3 -3 -3]\n",
            "[3 3 3]\n",
            "[0.25 0.4  0.5 ]\n",
            "[4 2 2]\n",
            "[ 4 10 18]\n",
            "[1 2 3]\n",
            "[1 4 9]\n"
          ]
        }
      ]
    },
    {
      "cell_type": "code",
      "source": [
        "#universal functions -> ufuncs\n",
        "\n",
        "import numpy as np\n",
        "arr=np.array([1,4,9,6])\n",
        "print(np.sqrt(arr))\n",
        "print(np.log(arr))\n",
        "print(np.log10(arr))\n",
        "print(np.exp(arr))\n",
        "\n",
        "arr2 = np.array([0, np.pi, np.pi/2])\n",
        "print(np.sin(arr2))\n",
        "print(np.cos(arr2))\n",
        "\n"
      ],
      "metadata": {
        "colab": {
          "base_uri": "https://localhost:8080/"
        },
        "id": "bHzK3cxU_90Y",
        "outputId": "693e83f1-846f-4531-b472-a32a0d2068aa"
      },
      "execution_count": 47,
      "outputs": [
        {
          "output_type": "stream",
          "name": "stdout",
          "text": [
            "[1.         2.         3.         2.44948974]\n",
            "[0.         1.38629436 2.19722458 1.79175947]\n",
            "[0.         0.60205999 0.95424251 0.77815125]\n",
            "[2.71828183e+00 5.45981500e+01 8.10308393e+03 4.03428793e+02]\n",
            "[0.0000000e+00 1.2246468e-16 1.0000000e+00]\n",
            "[ 1.000000e+00 -1.000000e+00  6.123234e-17]\n"
          ]
        }
      ]
    },
    {
      "cell_type": "code",
      "source": [
        "#Numpy Indexing - same as accessing an element an array (using index) starting starts with 0\n",
        "\n",
        "import numpy as np\n",
        "\n",
        "arr=np.array([1,2,3,4])\n",
        "for i in range(0,4):\n",
        "   print(arr[i])\n",
        "\n",
        "print(arr[0])\n",
        "print(arr[2]+arr[3])   #Numpy follows vectorisation"
      ],
      "metadata": {
        "colab": {
          "base_uri": "https://localhost:8080/"
        },
        "id": "f3Eruex5mpIV",
        "outputId": "64f2c05e-7bc0-4bbd-829f-28aa88640162"
      },
      "execution_count": 48,
      "outputs": [
        {
          "output_type": "stream",
          "name": "stdout",
          "text": [
            "1\n",
            "2\n",
            "3\n",
            "4\n",
            "1\n",
            "7\n"
          ]
        }
      ]
    },
    {
      "cell_type": "code",
      "source": [
        "#Acess in 2D arrays\n",
        "\n",
        "import numpy as np\n",
        "\n",
        "arr1=np.array([[1,2,3,4,5],[6,7,8,9,10]])\n",
        "print(arr1[0,1])    #2nd element on 1st row\n",
        "print(arr1[1,4])    #5th element on 2nd row\n",
        "print(arr1[1,-1])       #Negative index starts from 1 (last element from 2nd dim)"
      ],
      "metadata": {
        "colab": {
          "base_uri": "https://localhost:8080/"
        },
        "id": "SY7wpR_qna9o",
        "outputId": "85c8d773-8c02-4886-bc9a-971922897b6b"
      },
      "execution_count": 49,
      "outputs": [
        {
          "output_type": "stream",
          "name": "stdout",
          "text": [
            "2\n",
            "10\n",
            "10\n"
          ]
        }
      ]
    },
    {
      "cell_type": "code",
      "source": [
        "#Acess in 3D arrays\n",
        "\n",
        "import numpy as np\n",
        "\n",
        "arr=np.array([[[1,2,3],[4,5,6],[7,8,9]]])\n",
        "print(arr[0,1,2])\n",
        "print(arr[0,2,1])"
      ],
      "metadata": {
        "colab": {
          "base_uri": "https://localhost:8080/"
        },
        "id": "PGNZP8RboB2R",
        "outputId": "4811ec19-8406-4324-bf1d-15f507d0f16e"
      },
      "execution_count": 50,
      "outputs": [
        {
          "output_type": "stream",
          "name": "stdout",
          "text": [
            "6\n",
            "8\n"
          ]
        }
      ]
    },
    {
      "cell_type": "markdown",
      "source": [
        "#Array Slicing\n",
        "\n",
        "*Slicing in python means taking elements from one given index to another given index.\n",
        "\n",
        "*we pass slice instead of index like this:[start:end]\n",
        "\n",
        "*We can also define the step ,like this:[start,end,stop].\n",
        "\n",
        "*If we dont pass start it is considered 0.\n",
        "\n",
        "*If we dont pass end its considered length of array in that dimension.\n",
        "\n",
        "*If we dont pass step its considered 1.\n",
        "\n",
        "\n",
        "\n"
      ],
      "metadata": {
        "id": "KKvm0txtpE7u"
      }
    },
    {
      "cell_type": "code",
      "source": [
        "#Slicing in 1D arrays\n",
        "\n",
        "import numpy as np\n",
        "\n",
        "arr=np.array([1,2,3,4,5,6,7])\n",
        "print(arr[1:5])\n",
        "print(arr[4:])\n",
        "print(arr[:4])\n",
        "print(arr[-3:-1])\n",
        "print(arr[1:5:2])\n",
        "print(arr[::2])"
      ],
      "metadata": {
        "colab": {
          "base_uri": "https://localhost:8080/"
        },
        "id": "1PrQDWhPpPX6",
        "outputId": "43287442-9999-4b91-c709-135d924ac53e"
      },
      "execution_count": 51,
      "outputs": [
        {
          "output_type": "stream",
          "name": "stdout",
          "text": [
            "[2 3 4 5]\n",
            "[5 6 7]\n",
            "[1 2 3 4]\n",
            "[5 6]\n",
            "[2 4]\n",
            "[1 3 5 7]\n"
          ]
        }
      ]
    },
    {
      "cell_type": "code",
      "source": [
        "#Slicing in 2D Arrays\n",
        "\n",
        "import numpy as np\n",
        "\n",
        "arr=np.array([[1,2,3,4,5],[6,7,8,9,10]])\n",
        "print(arr[1,1:4])\n",
        "print(arr[0:2,2])\n",
        "print(arr[0:2,1:4])\n",
        "print(arr[::2])"
      ],
      "metadata": {
        "colab": {
          "base_uri": "https://localhost:8080/"
        },
        "id": "5zKIaz3ZqCtG",
        "outputId": "19b69bf0-bf38-486b-cdd6-bb7965bfb9f7"
      },
      "execution_count": 52,
      "outputs": [
        {
          "output_type": "stream",
          "name": "stdout",
          "text": [
            "[7 8 9]\n",
            "[3 8]\n",
            "[[2 3 4]\n",
            " [7 8 9]]\n",
            "[[1 2 3 4 5]]\n"
          ]
        }
      ]
    },
    {
      "cell_type": "markdown",
      "source": [
        "#Iterating Arrays"
      ],
      "metadata": {
        "id": "YXeFw-oWq52o"
      }
    },
    {
      "cell_type": "code",
      "source": [
        "import numpy as np\n",
        "\n",
        "#1D Array\n",
        "arr=np.array([1,2,3])\n",
        "for x in arr:\n",
        "  print(x)\n",
        "\n",
        "#2D Array\n",
        "arr=np.array([[1,2,3],[4,5,6]])\n",
        "for x in arr:\n",
        "  print(x)\n",
        "\n",
        "#2D Array element wise\n",
        "arr=np.array([[1,2,3],[4,5,6]])\n",
        "for x in arr:\n",
        "  for y in x:\n",
        "    print(y)\n",
        "\n"
      ],
      "metadata": {
        "colab": {
          "base_uri": "https://localhost:8080/"
        },
        "id": "ojAIcluYrZaJ",
        "outputId": "52e435e8-16e9-4cba-d50f-ec1cce25b9de"
      },
      "execution_count": 53,
      "outputs": [
        {
          "output_type": "stream",
          "name": "stdout",
          "text": [
            "1\n",
            "2\n",
            "3\n",
            "[1 2 3]\n",
            "[4 5 6]\n",
            "1\n",
            "2\n",
            "3\n",
            "4\n",
            "5\n",
            "6\n"
          ]
        }
      ]
    },
    {
      "cell_type": "code",
      "source": [
        "#Iterate 3D Arrays\n",
        "\n",
        "arr=np.array([[[1,2,3],[4,5,6],[7,8,9]]])\n",
        "for x in arr:\n",
        "  print(x)\n",
        "\n",
        "arr=np.array([[[1,2,3],[4,5,6],[7,8,9]]])\n",
        "for x in arr:\n",
        "  for y in x:\n",
        "    for z in y:\n",
        "      print(z)"
      ],
      "metadata": {
        "colab": {
          "base_uri": "https://localhost:8080/"
        },
        "id": "tNp3YMT5sndZ",
        "outputId": "a0061bef-e7c9-4662-eebc-dfed814109c8"
      },
      "execution_count": 54,
      "outputs": [
        {
          "output_type": "stream",
          "name": "stdout",
          "text": [
            "[[1 2 3]\n",
            " [4 5 6]\n",
            " [7 8 9]]\n",
            "1\n",
            "2\n",
            "3\n",
            "4\n",
            "5\n",
            "6\n",
            "7\n",
            "8\n",
            "9\n"
          ]
        }
      ]
    },
    {
      "cell_type": "code",
      "source": [
        "#np.take -> built in function to perform indexing & slicing\n",
        "\n",
        "arr=np.array([1,2,3,4,5,6])\n",
        "print(np.take(arr,[0,2,4]))\n",
        "\n",
        "array2=np.array([10,20,30,40,50])\n",
        "ind=[0,2]\n",
        "print(np.take(array2,ind))"
      ],
      "metadata": {
        "colab": {
          "base_uri": "https://localhost:8080/"
        },
        "id": "2N4W-_JNs5CV",
        "outputId": "ad15cac4-9b68-4367-94d3-f1880c4c3044"
      },
      "execution_count": 55,
      "outputs": [
        {
          "output_type": "stream",
          "name": "stdout",
          "text": [
            "[1 3 5]\n",
            "[10 30]\n"
          ]
        }
      ]
    },
    {
      "cell_type": "code",
      "source": [
        "#nditer\n",
        "\n",
        "arr=np.array([[1,2],[3,4]])\n",
        "for x in np.nditer(arr):\n",
        "  print(x)"
      ],
      "metadata": {
        "colab": {
          "base_uri": "https://localhost:8080/"
        },
        "id": "0xy40gIVtiBV",
        "outputId": "864c059f-13de-470a-931d-a128d6d5f75e"
      },
      "execution_count": 56,
      "outputs": [
        {
          "output_type": "stream",
          "name": "stdout",
          "text": [
            "1\n",
            "2\n",
            "3\n",
            "4\n"
          ]
        }
      ]
    },
    {
      "cell_type": "code",
      "source": [
        "#ndenumerate -> both index & values\n",
        "\n",
        "for ind , x in np.ndenumerate(arr):\n",
        "  print(ind,x)"
      ],
      "metadata": {
        "colab": {
          "base_uri": "https://localhost:8080/"
        },
        "id": "UXigCTkgtymI",
        "outputId": "ea01b207-37fc-41aa-c80d-ece349ff9dbb"
      },
      "execution_count": 57,
      "outputs": [
        {
          "output_type": "stream",
          "name": "stdout",
          "text": [
            "(0, 0) 1\n",
            "(0, 1) 2\n",
            "(1, 0) 3\n",
            "(1, 1) 4\n"
          ]
        }
      ]
    },
    {
      "cell_type": "code",
      "source": [
        "#Transpose\n",
        "\n",
        "arr=np.array([[1,2,3],[4,5,6]])\n",
        "print(arr)\n",
        "print(arr.transpose())   # or print(arr.T)"
      ],
      "metadata": {
        "colab": {
          "base_uri": "https://localhost:8080/"
        },
        "id": "hnG-LRUWuAhi",
        "outputId": "c4b97038-9f54-4fca-9b87-f3c9f9977ca5"
      },
      "execution_count": 58,
      "outputs": [
        {
          "output_type": "stream",
          "name": "stdout",
          "text": [
            "[[1 2 3]\n",
            " [4 5 6]]\n",
            "[[1 4]\n",
            " [2 5]\n",
            " [3 6]]\n"
          ]
        }
      ]
    },
    {
      "cell_type": "code",
      "source": [
        "#swapaxes -> swap 2 specific axes in a matrix\n",
        "\n",
        "arr=np.array([[1,2,3],[4,5,6]])\n",
        "print(arr)\n",
        "print(np.swapaxes(arr,0,1))"
      ],
      "metadata": {
        "colab": {
          "base_uri": "https://localhost:8080/"
        },
        "id": "Gs5EagLiuS5j",
        "outputId": "91b368d6-8863-4b05-d749-4e6e722f3069"
      },
      "execution_count": 59,
      "outputs": [
        {
          "output_type": "stream",
          "name": "stdout",
          "text": [
            "[[1 2 3]\n",
            " [4 5 6]]\n",
            "[[1 4]\n",
            " [2 5]\n",
            " [3 6]]\n"
          ]
        }
      ]
    },
    {
      "cell_type": "markdown",
      "source": [
        "#Array Concatenation\n",
        "\n",
        "*In sql we join tables based on a key , whereas in Numpy we join arrays by axes.\n"
      ],
      "metadata": {
        "id": "VLc_kyTfurVB"
      }
    },
    {
      "cell_type": "code",
      "source": [
        "import numpy as np\n",
        "\n",
        "#join two 1D array\n",
        "arr1=np.array([1,2,3])\n",
        "arr2=np.array([4,5,6])\n",
        "arr5=np.concatenate((arr1,arr2))\n",
        "print(arr5)\n",
        "\n",
        "#join two 2D Arrays (axis=1)\n",
        "arr3=np.array([[1,2],[3,4]])\n",
        "arr4=np.array([[5,6],[7,8]])\n",
        "arr6=np.concatenate((arr3,arr4),axis=1)\n",
        "print(arr6)"
      ],
      "metadata": {
        "colab": {
          "base_uri": "https://localhost:8080/"
        },
        "id": "zll2eFwWu-ql",
        "outputId": "dda646ab-59f8-4d32-dfc3-c63c6312e9c5"
      },
      "execution_count": 60,
      "outputs": [
        {
          "output_type": "stream",
          "name": "stdout",
          "text": [
            "[1 2 3 4 5 6]\n",
            "[[1 2 5 6]\n",
            " [3 4 7 8]]\n"
          ]
        }
      ]
    },
    {
      "cell_type": "markdown",
      "source": [
        "Joining Arrays Using Stack Functions\n",
        "\n",
        "*Stacking is same as concatenation,the only difference is that stacking is done along a new axes.\n",
        "\n",
        "*we can concatenate two 1D arrays along the second axis which would result in putting them one over the other ie.Staking.\n",
        "\n",
        "*We pass a sequence of arrays that we want to join to the stack() method along with the axis.If axis is not explicitly passes it is taken as 0.\n",
        "\n",
        "\n",
        "*can be peformed by stack with axis or direclty use hstack or vstack"
      ],
      "metadata": {
        "id": "R7PXgldowIv7"
      }
    },
    {
      "cell_type": "code",
      "source": [
        "import numpy as np\n",
        "\n",
        "arr1=np.array([1,2,3])\n",
        "arr2=np.array([4,5,6])\n",
        "arr=np.stack((arr1,arr2))\n",
        "print(arr)\n",
        "\n",
        "arr=np.stack((arr1,arr2),axis=1)\n",
        "print(arr)"
      ],
      "metadata": {
        "colab": {
          "base_uri": "https://localhost:8080/"
        },
        "id": "yxlW_WR1w5fm",
        "outputId": "17857d9e-4b73-424b-b6c1-547ed59fab02"
      },
      "execution_count": 61,
      "outputs": [
        {
          "output_type": "stream",
          "name": "stdout",
          "text": [
            "[[1 2 3]\n",
            " [4 5 6]]\n",
            "[[1 4]\n",
            " [2 5]\n",
            " [3 6]]\n"
          ]
        }
      ]
    },
    {
      "cell_type": "code",
      "source": [
        "#hstack -> horizontal stack\n",
        "\n",
        "arr1=np.array([1,2,3])\n",
        "arr2=np.array([4,5,6])\n",
        "arr=np.hstack((arr1,arr2))\n",
        "print(arr)\n",
        "\n",
        "#vstack -> vertical stack\n",
        "arr=np.vstack((arr1,arr2))\n",
        "print(arr)"
      ],
      "metadata": {
        "colab": {
          "base_uri": "https://localhost:8080/"
        },
        "id": "vMBskTl2xinE",
        "outputId": "f05f644c-c745-48fc-ff03-09e1549a3181"
      },
      "execution_count": 62,
      "outputs": [
        {
          "output_type": "stream",
          "name": "stdout",
          "text": [
            "[1 2 3 4 5 6]\n",
            "[[1 2 3]\n",
            " [4 5 6]]\n"
          ]
        }
      ]
    },
    {
      "cell_type": "markdown",
      "source": [
        "Array splitting\n",
        "\n",
        "*splitting is reverse operation of joining.\n",
        "\n",
        "*Joining merges multiple arrays into one and splitting breaks one array into multiple.\n",
        "\n",
        "*we use array split() for splitting arrays we pass it the array we want to split and the number of splits.\n",
        "\n"
      ],
      "metadata": {
        "id": "uAKhjwCix8mg"
      }
    },
    {
      "cell_type": "code",
      "source": [
        "import numpy as np\n",
        "\n",
        "#1D Arrays\n",
        "#split the array in 4 parts.\n",
        "arr=np.array([1,2,3,4,5,6])\n",
        "newarr=np.array_split(arr,3)\n",
        "print(newarr)\n",
        "\n",
        "#split the array in 4 parts.\n",
        "arr=np.array([1,2,3,4,5,6])\n",
        "newarr=np.array_split(arr,4)   #If the last elements than req , it will adjust from the end accordingly\n",
        "print(newarr)"
      ],
      "metadata": {
        "colab": {
          "base_uri": "https://localhost:8080/"
        },
        "id": "LNJcP7HIyfsn",
        "outputId": "b07b944f-76ee-4001-ec01-6ea633ef7746"
      },
      "execution_count": 63,
      "outputs": [
        {
          "output_type": "stream",
          "name": "stdout",
          "text": [
            "[array([1, 2]), array([3, 4]), array([5, 6])]\n",
            "[array([1, 2]), array([3, 4]), array([5]), array([6])]\n"
          ]
        }
      ]
    },
    {
      "cell_type": "code",
      "source": [
        "#2D Arrays.\n",
        "\n",
        "import numpy as np\n",
        "\n",
        "arr=np.array([[1,2],[3,4],[5,6],[7,8],[9,10],[11,12]])\n",
        "newarr=np.array_split(arr,3)\n",
        "print(newarr)"
      ],
      "metadata": {
        "colab": {
          "base_uri": "https://localhost:8080/"
        },
        "id": "TThenjRHzg3l",
        "outputId": "2847c5dc-bbfa-4546-e959-ed2d6a01a6b2"
      },
      "execution_count": 64,
      "outputs": [
        {
          "output_type": "stream",
          "name": "stdout",
          "text": [
            "[array([[1, 2],\n",
            "       [3, 4]]), array([[5, 6],\n",
            "       [7, 8]]), array([[ 9, 10],\n",
            "       [11, 12]])]\n"
          ]
        }
      ]
    },
    {
      "cell_type": "code",
      "source": [
        "#repeat - each element\n",
        "\n",
        "arr=np.array([1,2,3])\n",
        "print(np.repeat(arr,3))\n",
        "\n",
        "#tile - repeat the whole array\n",
        "\n",
        "print(np.tile(arr,2))"
      ],
      "metadata": {
        "colab": {
          "base_uri": "https://localhost:8080/"
        },
        "id": "vI-0Tpoy0EUe",
        "outputId": "967dd590-1d93-44cb-92b0-9d83d3e0d442"
      },
      "execution_count": 65,
      "outputs": [
        {
          "output_type": "stream",
          "name": "stdout",
          "text": [
            "[1 1 1 2 2 2 3 3 3]\n",
            "[1 2 3 1 2 3]\n"
          ]
        }
      ]
    },
    {
      "cell_type": "code",
      "source": [
        "import numpy as np\n",
        "\n",
        "#where -> conditions\n",
        "arr=np.array([1,2,3])\n",
        "result=np.where(arr<2,\"Low\",\"High\")\n",
        "print(result)"
      ],
      "metadata": {
        "colab": {
          "base_uri": "https://localhost:8080/"
        },
        "id": "wx1WoHzU0t_G",
        "outputId": "56a64222-2da7-4779-ce6e-03e3b3a3f109"
      },
      "execution_count": 66,
      "outputs": [
        {
          "output_type": "stream",
          "name": "stdout",
          "text": [
            "['Low' 'High' 'High']\n"
          ]
        }
      ]
    },
    {
      "cell_type": "code",
      "source": [
        "import numpy as np\n",
        "\n",
        "#argwhere - row column positions(index) for 2d arrays\n",
        "\n",
        "arr=np.array([10,25,35,50])\n",
        "print(np.argwhere(arr>20))"
      ],
      "metadata": {
        "colab": {
          "base_uri": "https://localhost:8080/"
        },
        "id": "TdMp12QX1C73",
        "outputId": "f50edf3c-4a42-42ab-d3c1-6a06bbdf06db"
      },
      "execution_count": 67,
      "outputs": [
        {
          "output_type": "stream",
          "name": "stdout",
          "text": [
            "[[1]\n",
            " [2]\n",
            " [3]]\n"
          ]
        }
      ]
    },
    {
      "cell_type": "code",
      "source": [
        "import numpy as np\n",
        "\n",
        "arr=np.array([[1,2,3],[4,5,6]])\n",
        "total_sum=np.sum(arr)\n",
        "print(total_sum)\n",
        "\n",
        "column_sum=np.sum(arr,axis=0)\n",
        "row_sum=np.sum(arr,axis=1)\n",
        "print(column_sum)\n",
        "print(row_sum)"
      ],
      "metadata": {
        "colab": {
          "base_uri": "https://localhost:8080/"
        },
        "id": "ROSZJKko3mQl",
        "outputId": "7120c11e-9f2d-45e4-e51c-1f7b4186e1e7"
      },
      "execution_count": 68,
      "outputs": [
        {
          "output_type": "stream",
          "name": "stdout",
          "text": [
            "21\n",
            "[5 7 9]\n",
            "[ 6 15]\n"
          ]
        }
      ]
    },
    {
      "cell_type": "code",
      "source": [
        "import numpy as np\n",
        "\n",
        "import numpy as np\n",
        "arr = np.array([10, 20, 30, 40, 50])\n",
        "print(\"Original Array:\", arr)\n",
        "\n",
        "# Aggregation functions\n",
        "print(\"1. Sum:\", np.sum(arr))\n",
        "print(\"2. Mean (Average):\", np.mean(arr))\n",
        "print(\"3. Median:\", np.median(arr))\n",
        "print(\"4. Standard Deviation:\", np.std(arr))\n",
        "print(\"5. Variance:\", np.var(arr))\n",
        "print(\"6. Minimum Value:\", np.min(arr))\n",
        "print(\"7. Maximum Value:\", np.max(arr))\n",
        "print(\"8. Index of Minimum Value:\", np.argmin(arr))\n",
        "print(\"9. Index of Maximum Value:\", np.argmax(arr))\n",
        "print(\"10. Cumulative Sum:\", np.cumsum(arr))\n",
        "print(\"11. Cumulative Product:\", np.cumprod(arr))\n",
        "print(\"12. 25th Percentile:\", np.percentile(arr, 25))\n",
        "print(\"13. 50th Percentile (Median):\", np.percentile(arr, 50))\n",
        "print(\"14. 75th Percentile:\", np.percentile(arr, 75))\n",
        "print(np.sort(arr))"
      ],
      "metadata": {
        "colab": {
          "base_uri": "https://localhost:8080/"
        },
        "id": "7_Eizf_C6IoE",
        "outputId": "ab485771-e552-47b9-f304-0df515dde3bf"
      },
      "execution_count": 69,
      "outputs": [
        {
          "output_type": "stream",
          "name": "stdout",
          "text": [
            "Original Array: [10 20 30 40 50]\n",
            "1. Sum: 150\n",
            "2. Mean (Average): 30.0\n",
            "3. Median: 30.0\n",
            "4. Standard Deviation: 14.142135623730951\n",
            "5. Variance: 200.0\n",
            "6. Minimum Value: 10\n",
            "7. Maximum Value: 50\n",
            "8. Index of Minimum Value: 0\n",
            "9. Index of Maximum Value: 4\n",
            "10. Cumulative Sum: [ 10  30  60 100 150]\n",
            "11. Cumulative Product: [      10      200     6000   240000 12000000]\n",
            "12. 25th Percentile: 20.0\n",
            "13. 50th Percentile (Median): 30.0\n",
            "14. 75th Percentile: 40.0\n",
            "[10 20 30 40 50]\n"
          ]
        }
      ]
    },
    {
      "cell_type": "code",
      "source": [
        "  #vectorize -> convert a regular function to be applied on an array.\n",
        "\n",
        "import numpy as np\n",
        "def square(x):\n",
        "    return x*x\n",
        "vfunc=np.vectorize(square)\n",
        "\n",
        "arr=np.array([1,2,3,4])\n",
        "print(vfunc(arr))"
      ],
      "metadata": {
        "colab": {
          "base_uri": "https://localhost:8080/"
        },
        "id": "b0XB6AsYqPyJ",
        "outputId": "38f0c9f0-c573-4636-9c48-870f86367633"
      },
      "execution_count": 70,
      "outputs": [
        {
          "output_type": "stream",
          "name": "stdout",
          "text": [
            "[ 1  4  9 16]\n"
          ]
        }
      ]
    },
    {
      "cell_type": "code",
      "source": [
        "#Broadcasting -> Numpy compares the shape of the arrays from the end (right to left) & follows these rules\n",
        "   #*If shapes are equal they're compatible\n",
        "   #*If one is 1,it can be started to match the other.\n",
        "   #*If shapes are different & not 1 or equal -> error.\n",
        "\n",
        "import numpy as np\n",
        "\n",
        "\n",
        "arr = np.array([1, 2, 3, 4])\n",
        "print(arr + 5)\n",
        "\n",
        "matrix = np.array([[1, 2, 3],\n",
        "                   [4, 5, 6]])\n",
        "vector = np.array([10, 20, 30])\n",
        "\n",
        "print(matrix + vector)\n"
      ],
      "metadata": {
        "colab": {
          "base_uri": "https://localhost:8080/"
        },
        "id": "Di1i2GkUstKm",
        "outputId": "f46c31cb-27b2-496e-c372-ef3466c095cd"
      },
      "execution_count": 71,
      "outputs": [
        {
          "output_type": "stream",
          "name": "stdout",
          "text": [
            "[6 7 8 9]\n",
            "[[11 22 33]\n",
            " [14 25 36]]\n"
          ]
        }
      ]
    },
    {
      "cell_type": "code",
      "source": [
        "import numpy as np\n",
        "\n",
        "arr = np.array([10, 20, 30, 40, 50])\n",
        "mask = np.logical_and(arr > 15, arr < 35)\n",
        "print(mask)\n",
        "\n"
      ],
      "metadata": {
        "colab": {
          "base_uri": "https://localhost:8080/"
        },
        "id": "hdGTjytRu2Tw",
        "outputId": "ff9a9b04-b316-430b-b9be-23fb5e5edecb"
      },
      "execution_count": 72,
      "outputs": [
        {
          "output_type": "stream",
          "name": "stdout",
          "text": [
            "[False  True  True False False]\n"
          ]
        }
      ]
    },
    {
      "cell_type": "code",
      "source": [
        "#view - changes the orginal array\n",
        "\n",
        "arr=np.array([1,2,3,4,5])\n",
        "view =arr[1:3]\n",
        "print(view)\n",
        "\n",
        "view[0]=200\n",
        "print(view)\n",
        "print(arr)"
      ],
      "metadata": {
        "colab": {
          "base_uri": "https://localhost:8080/"
        },
        "id": "MJ70cpLDvbFd",
        "outputId": "486c5fcd-1a0f-41de-f817-e9709f6745eb"
      },
      "execution_count": 73,
      "outputs": [
        {
          "output_type": "stream",
          "name": "stdout",
          "text": [
            "[2 3]\n",
            "[200   3]\n",
            "[  1 200   3   4   5]\n"
          ]
        }
      ]
    },
    {
      "cell_type": "code",
      "source": [
        "#copy -unchanged\n",
        "copy=arr.copy()\n",
        "copy[0]=100\n",
        "print(copy)\n",
        "print(arr)\n"
      ],
      "metadata": {
        "colab": {
          "base_uri": "https://localhost:8080/"
        },
        "id": "tzb6tCOwxDUh",
        "outputId": "d289e59c-ef0c-45a6-d64b-73b82a979b78"
      },
      "execution_count": 74,
      "outputs": [
        {
          "output_type": "stream",
          "name": "stdout",
          "text": [
            "[100 200   3   4   5]\n",
            "[  1 200   3   4   5]\n"
          ]
        }
      ]
    },
    {
      "cell_type": "markdown",
      "source": [
        "#NUMPY's STRUCTURED ARRAY\n",
        "\n",
        "*Structured Array is similar to the Struct in c.It is used for grouping data of different data types and sizes.\n",
        "\n",
        "*structured arra uses data containers called fields.Each data field can contain data of any data type and size.\n",
        "\n",
        "*Array elements can be accessed with the help of dot notation.\n",
        "\n",
        "*To create a structured array in Numpy,we need to define a dtype(data type) that specifies the namesand types of each field."
      ],
      "metadata": {
        "id": "mtHvyaNr4mKg"
      }
    },
    {
      "cell_type": "code",
      "source": [
        "import numpy as np\n",
        "\n",
        "import numpy as np\n",
        "\n",
        "# Define the structure (field names and data types)\n",
        "employee_dtype = np.dtype([\n",
        "    ('name', 'U10'),     # 'U10' = string of max length 10\n",
        "    ('age', 'i4'),       # 'i4' = 4-byte integer\n",
        "    ('salary', 'f8')     # 'f8' = 8-byte float\n",
        "])\n",
        "\n",
        "# Create an array of structured data\n",
        "employees = np.array([\n",
        "    ('Alice', 25, 50000.0),\n",
        "    ('Bob', 30, 60000.0),\n",
        "    ('Charlie', 28, 55000.0)\n",
        "], dtype=employee_dtype)\n",
        "\n",
        "print(employees)\n",
        "\n",
        "print(employees['name'])\n",
        "# Output: ['Alice' 'Bob' 'Charlie']\n",
        "\n",
        "print(employees['age'])\n",
        "# Output: [25 30 28]\n",
        "\n",
        "print(employees['salary'])\n",
        "# Output: [50000. 60000. 55000.]\n",
        "\n"
      ],
      "metadata": {
        "colab": {
          "base_uri": "https://localhost:8080/"
        },
        "id": "inW3LRDW5SK1",
        "outputId": "6651ac56-c92a-4865-a917-325b37215b2f"
      },
      "execution_count": 75,
      "outputs": [
        {
          "output_type": "stream",
          "name": "stdout",
          "text": [
            "[('Alice', 25, 50000.) ('Bob', 30, 60000.) ('Charlie', 28, 55000.)]\n",
            "['Alice' 'Bob' 'Charlie']\n",
            "[25 30 28]\n",
            "[50000. 60000. 55000.]\n"
          ]
        }
      ]
    },
    {
      "cell_type": "code",
      "source": [
        "# Filter employees with salary > 55000\n",
        "high_salary = employees[employees['salary'] > 55000]\n",
        "print(high_salary)\n",
        "\n",
        "employees['salary'] *= 1.10  # Give 10% raise\n",
        "print(employees)\n",
        "\n",
        "# Sort by salary\n",
        "sorted_employees = np.sort(employees, order='salary')\n",
        "print(sorted_employees)\n"
      ],
      "metadata": {
        "colab": {
          "base_uri": "https://localhost:8080/"
        },
        "id": "KVDrL1C37V9h",
        "outputId": "3a58d64d-a31b-4799-8b34-96b675d09cfb"
      },
      "execution_count": 76,
      "outputs": [
        {
          "output_type": "stream",
          "name": "stdout",
          "text": [
            "[('Bob', 30, 60000.)]\n",
            "[('Alice', 25, 55000.) ('Bob', 30, 66000.) ('Charlie', 28, 60500.)]\n",
            "[('Alice', 25, 55000.) ('Charlie', 28, 60500.) ('Bob', 30, 66000.)]\n"
          ]
        }
      ]
    }
  ]
}