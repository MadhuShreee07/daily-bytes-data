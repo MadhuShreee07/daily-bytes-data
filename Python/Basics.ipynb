{
  "nbformat": 4,
  "nbformat_minor": 0,
  "metadata": {
    "colab": {
      "provenance": []
    },
    "kernelspec": {
      "name": "python3",
      "display_name": "Python 3"
    },
    "language_info": {
      "name": "python"
    }
  },
  "cells": [
    {
      "cell_type": "markdown",
      "source": [
        "FUNCTION : A reusable piece of code that performs a specific task\n"
      ],
      "metadata": {
        "id": "LgxfZnfYDwg2"
      }
    },
    {
      "cell_type": "code",
      "source": [
        "def greet():\n",
        "  return \"heyy!\"\n",
        "\n",
        "greet()"
      ],
      "metadata": {
        "colab": {
          "base_uri": "https://localhost:8080/",
          "height": 35
        },
        "id": "rQ1XRFJqEy2c",
        "outputId": "0718b96d-bc6c-42ce-defa-5dd671fe1ac0"
      },
      "execution_count": null,
      "outputs": [
        {
          "output_type": "execute_result",
          "data": {
            "text/plain": [
              "'heyy!'"
            ],
            "application/vnd.google.colaboratory.intrinsic+json": {
              "type": "string"
            }
          },
          "metadata": {},
          "execution_count": 25
        }
      ]
    },
    {
      "cell_type": "code",
      "source": [
        "job_title=\"data analyst\"\n",
        "job_location=\"united states\"\n",
        "job_salary=90000\n",
        "\n",
        "print(f\"JOB:  {job_title} \\nLOCATION: {job_location} \\nSALARY: {job_salary}\")"
      ],
      "metadata": {
        "colab": {
          "base_uri": "https://localhost:8080/"
        },
        "id": "wKv6i-YfFBFI",
        "outputId": "141dc24d-1f96-4af8-b32f-89025c2e5b9c"
      },
      "execution_count": null,
      "outputs": [
        {
          "output_type": "stream",
          "name": "stdout",
          "text": [
            "JOB:  data analyst \n",
            "LOCATION: united states \n",
            "SALARY: 90000\n"
          ]
        }
      ]
    },
    {
      "cell_type": "markdown",
      "source": [
        "CLASSES:The template for creating objects(records)"
      ],
      "metadata": {
        "id": "q6ODM7xFFy1R"
      }
    },
    {
      "cell_type": "code",
      "source": [
        "class jobpost:\n",
        "  def __init__(self,title,location,salary):\n",
        "    self.title=title\n",
        "    self.location=location\n",
        "    self.salary=salary\n",
        "job_1=jobpost(job_title,job_location,job_salary)\n",
        "print(job_1.title)\n",
        "print(job_1.location)\n",
        "job_1.salary"
      ],
      "metadata": {
        "colab": {
          "base_uri": "https://localhost:8080/"
        },
        "id": "kB6RcfWuF5hF",
        "outputId": "d328967d-8db4-4bb6-a831-ecce2eed1d6b"
      },
      "execution_count": null,
      "outputs": [
        {
          "output_type": "stream",
          "name": "stdout",
          "text": [
            "data analyst\n",
            "united states\n"
          ]
        },
        {
          "output_type": "execute_result",
          "data": {
            "text/plain": [
              "90000"
            ]
          },
          "metadata": {},
          "execution_count": 27
        }
      ]
    },
    {
      "cell_type": "markdown",
      "source": [
        "METHODS:A function defined inside a class that operates on its objects"
      ],
      "metadata": {
        "id": "sH7h-3XoHn4s"
      }
    },
    {
      "cell_type": "code",
      "source": [
        "class jobpost:\n",
        "  def __init__(self,title,location,salary):\n",
        "    self.title=title\n",
        "    self.location=location\n",
        "    self.salary=salary\n",
        "  def display_info(self):\n",
        "    return print(f\"JOB:  {self.title} \\nLOCATION: {self.location} \\nSALARY: {self.salary}\")\n",
        "job_1=jobpost(job_title,job_location,job_salary)\n",
        "job_1.display_info()"
      ],
      "metadata": {
        "colab": {
          "base_uri": "https://localhost:8080/"
        },
        "id": "jMGnT5d2H02O",
        "outputId": "c5119f4a-59e0-47a0-84b7-859f75a30732"
      },
      "execution_count": null,
      "outputs": [
        {
          "output_type": "stream",
          "name": "stdout",
          "text": [
            "JOB:  data analyst \n",
            "LOCATION: united states \n",
            "SALARY: 90000\n"
          ]
        }
      ]
    },
    {
      "cell_type": "markdown",
      "source": [
        "STRING FORMATTING\n",
        "\n",
        "Concatenation   - 'string' + variable      -   \tCombines strings by directly appending them together.\n",
        "\n",
        "str.format()    -  \t'string {}'.format(variable)\t  -     Utilizes curly braces {} as placeholders for formatting.\n",
        "\n",
        "f-strings\t     -    f'string {variable}'\t      -      Embeds expressions inside string literals, prefixed with f.\n",
        "\n",
        "% Formatting\t  -     'string %s' % variable     -     \tUses % as a placeholder for string substitutions.\n",
        "\n",
        "join()\t  -    'separator'.join([string, variable])   -    \tJoins a list of strings into a single string with a separator."
      ],
      "metadata": {
        "id": "lEyjPgCFOFiV"
      }
    },
    {
      "cell_type": "code",
      "source": [
        "# String Formatting Methods in Python\n",
        "\n",
        "name = \"Luke\"\n",
        "\n",
        "#  Concatenation\n",
        "print(\"Hello \" + name)\n",
        "\n",
        "#  str.format()\n",
        "print(\"Hello {}\".format(name))\n",
        "\n",
        "#  -strings\n",
        "print(f\"Hello {name}\")\n",
        "\n",
        "#  % Formatting\n",
        "print(\"Hello %s\" % name)\n",
        "\n",
        "#  join()\n",
        "print(\" \".join([\"Hello\", name]))\n"
      ],
      "metadata": {
        "colab": {
          "base_uri": "https://localhost:8080/"
        },
        "id": "LFP9dVh9OnMS",
        "outputId": "b5ee782f-158b-43f2-c729-d6f4a70b03d5"
      },
      "execution_count": null,
      "outputs": [
        {
          "output_type": "stream",
          "name": "stdout",
          "text": [
            "Hello Luke\n",
            "Hello Luke\n",
            "Hello Luke\n",
            "Hello Luke\n",
            "Hello Luke\n"
          ]
        }
      ]
    },
    {
      "cell_type": "markdown",
      "source": [
        "Syntax for conditional statements:\n",
        "\n",
        "if condition:\n",
        "    print(\" \")\n",
        "\n",
        "elif condition:\n",
        "   print(\" \")\n",
        "\n",
        "\n",
        "else\n",
        "  print(\" \")"
      ],
      "metadata": {
        "id": "sDH7eDQ7R8oV"
      }
    },
    {
      "cell_type": "markdown",
      "source": [
        "TYPES OF FUNCTIONS:\n",
        "\n",
        "Type of Function\n",
        "\n",
        "Built-in Functions\t- print()\n",
        "\n",
        "User-defined Functions  -\tdef my_function(): pass\n",
        "\n",
        "Lambda Functions  - \tlambda x: x + 1\n",
        "\n",
        "Standard Library Functions  - \tmath.sqrt()\n",
        "\n",
        "Third-Party Library Functions\t-  numpy.array()"
      ],
      "metadata": {
        "id": "d3zNqFGs38Uj"
      }
    },
    {
      "cell_type": "code",
      "source": [
        "# 🧠 LAMBDA FUNCTIONS IN PYTHON\n",
        "\n",
        "#  Definition:\n",
        "# A lambda function is a small, anonymous (nameless) function defined using the 'lambda' keyword.\n",
        "# It can take any number of arguments but has only ONE expression.\n",
        "# Syntax:\n",
        "#   lambda arguments: expression\n",
        "#\n",
        "# 🔹 Purpose / Why use lambda?\n",
        "# - Used when you need a small function for a short period (temporary use).\n",
        "# - Commonly used with functions like map(), filter(), reduce(), and sorted().\n",
        "# - Keeps code concise and readable.\n",
        "#\n",
        "# 🔹 Equivalent of normal function:\n",
        "#   def add(x, y):\n",
        "#       return x + y\n",
        "#\n",
        "#   # same using lambda:\n",
        "#   add = lambda x, y: x + y\n",
        "\n",
        "\n",
        "# ✅ 1. BASIC LAMBDA FUNCTION\n",
        "add = lambda a, b: a + b\n",
        "print(\"Sum:\", add(5, 3))\n",
        "\n",
        "# ✅ 2. LAMBDA WITH SINGLE ARGUMENT\n",
        "square = lambda x: x ** 2\n",
        "print(\"Square:\", square(6))\n",
        "\n",
        "# ✅ 3. LAMBDA WITH CONDITIONAL EXPRESSION\n",
        "# You can use an inline if-else inside a lambda\n",
        "check_even = lambda x: \"Even\" if x % 2 == 0 else \"Odd\"\n",
        "print(\"Check 7:\", check_even(7))\n",
        "print(\"Check 10:\", check_even(10))\n",
        "\n",
        "# ✅ 4. LAMBDA WITH MULTIPLE ARGUMENTS\n",
        "multiply = lambda x, y, z: x * y * z\n",
        "print(\"Multiply:\", multiply(2, 3, 4))\n",
        "\n",
        "# ✅ 5. LAMBDA WITH NO ARGUMENT\n",
        "greet = lambda: \"Hello from Lambda!\"\n",
        "print(greet())\n",
        "\n",
        "# ✅ 6. LAMBDA USED INSIDE map()\n",
        "nums = [1, 2, 3, 4, 5]\n",
        "squared_nums = list(map(lambda x: x ** 2, nums))\n",
        "print(\"\\nOriginal:\", nums)\n",
        "print(\"Squared (map + lambda):\", squared_nums)\n",
        "\n",
        "# ✅ 7. LAMBDA USED INSIDE filter()\n",
        "# Keep only even numbers\n",
        "even_nums = list(filter(lambda x: x % 2 == 0, nums))\n",
        "print(\"Even numbers (filter + lambda):\", even_nums)\n",
        "\n",
        "# ✅ 8. LAMBDA USED INSIDE reduce()\n",
        "from functools import reduce\n",
        "sum_all = reduce(lambda x, y: x + y, nums)\n",
        "print(\"Sum using reduce + lambda:\", sum_all)\n",
        "\n",
        "# ✅ 9. LAMBDA IN sorted()\n",
        "students = [(\"Alice\", 25), (\"Bob\", 20), (\"Charlie\", 23)]\n",
        "# Sort by age\n",
        "sorted_students = sorted(students, key=lambda x: x[1])\n",
        "print(\"\\nSorted by age:\", sorted_students)\n",
        "\n",
        "# ✅ 10. LAMBDA WITH DICTIONARY SORTING\n",
        "marks = {\"Alice\": 85, \"Bob\": 92, \"Charlie\": 78}\n",
        "sorted_marks = dict(sorted(marks.items(), key=lambda x: x[1], reverse=True))\n",
        "print(\"Sorted marks (by value):\", sorted_marks)\n",
        "\n",
        "# ✅ 11. NESTED LAMBDA (ADVANCED)\n",
        "nested = lambda x: (lambda y: x + y)\n",
        "add_to_5 = nested(5)\n",
        "print(\"\\nNested lambda add_to_5(10):\", add_to_5(10))\n",
        "\n",
        "# ✅ 12. LAMBDA RETURNING A FUNCTION\n",
        "def power(n):\n",
        "    return lambda x: x ** n\n",
        "\n",
        "square = power(2)\n",
        "cube = power(3)\n",
        "print(\"\\nSquare of 4:\", square(4))\n",
        "print(\"Cube of 3:\", cube(3))\n",
        "\n",
        "# ✅ 13. LAMBDA FOR INLINE DATA PROCESSING\n",
        "data = [(\"apple\", 3), (\"banana\", 1), (\"cherry\", 5)]\n",
        "# Sort by quantity descending\n",
        "sorted_data = sorted(data, key=lambda x: x[1], reverse=True)\n",
        "print(\"\\nSorted fruits by quantity:\", sorted_data)\n",
        "\n",
        "# ✅ 14. LAMBDA INSIDE LIST COMPREHENSION\n",
        "double = [(lambda x: x * 2)(x) for x in range(5)]\n",
        "print(\"Doubled list (lambda + comprehension):\", double)\n",
        "\n",
        "# ✅ 15. LAMBDA WITH DEFAULT ARGUMENT\n",
        "add_default = lambda a, b=5: a + b\n",
        "print(\"\\nAdd with default:\", add_default(10))\n",
        "print(\"Add with custom:\", add_default(10, 20))\n",
        "\n",
        "# ✅ 16. USING LAMBDA TO EXTRACT KEYS\n",
        "people = [{\"name\": \"Alice\", \"age\": 25},\n",
        "          {\"name\": \"Bob\", \"age\": 20},\n",
        "          {\"name\": \"Charlie\", \"age\": 30}]\n",
        "sorted_people = sorted(people, key=lambda p: p[\"age\"])\n",
        "print(\"\\nSorted by age (dict list):\", sorted_people)\n",
        "\n",
        "\n",
        "# 🔹 Summary:\n",
        "# ✔ Lambda functions are small, one-line anonymous functions.\n",
        "# ✔ Often used with map(), filter(), reduce(), sorted().\n",
        "# ✔ Help make the code cleaner and more functional-style.\n",
        "# ✔ Limited to one expression (no loops or multiple statements).\n"
      ],
      "metadata": {
        "id": "eimK9lbW6OOU"
      },
      "execution_count": null,
      "outputs": []
    }
  ]
}